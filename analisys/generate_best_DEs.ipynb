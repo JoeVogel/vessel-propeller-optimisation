{
 "cells": [
  {
   "cell_type": "code",
   "execution_count": 1,
   "metadata": {},
   "outputs": [],
   "source": [
    "import numpy as np\n",
    "import pandas as pd\n",
    "import csv\n",
    "\n",
    "from os import listdir"
   ]
  },
  {
   "cell_type": "code",
   "execution_count": 2,
   "metadata": {},
   "outputs": [],
   "source": [
    "dir_run = '../results'\n",
    "\n",
    "NSEEDS = 10"
   ]
  },
  {
   "cell_type": "code",
   "execution_count": 15,
   "metadata": {},
   "outputs": [],
   "source": [
    "def generate_best_configuration_file(execution_folder):\n",
    "    \n",
    "    execution_path = dir_run + '/' + execution_folder\n",
    "    \n",
    "    for s in listdir(execution_path):\n",
    "        speed_dir = execution_path + '/' + s\n",
    "        \n",
    "        best_result = {\n",
    "            'D':0,\n",
    "            'AEdAO':0,\n",
    "            'PdD':0,\n",
    "            'Z':0,\n",
    "            'P_B':9999\n",
    "        }\n",
    "        \n",
    "        for seed in range(0,10):\n",
    "            seed_dir = speed_dir + \"/\" + str(seed)\n",
    "            \n",
    "            best_result_file = [filename for filename in listdir(seed_dir) if str(seed) in filename]\n",
    "            best_result_path = seed_dir + '/' + best_result_file[0]\n",
    "            \n",
    "                   \n",
    "            best_data = None\n",
    "                       \n",
    "            with open(best_result_path, 'r', newline='') as csv_file:\n",
    "                reader = csv.reader(csv_file)\n",
    "                best_result_line = False\n",
    "                \n",
    "                for row in reader:\n",
    "                    \n",
    "                    if (row[0] == 'Best Solution'):\n",
    "                        best_result_line = True\n",
    "                        continue\n",
    "                    \n",
    "                    if (best_result_line):\n",
    "                        best_data = row\n",
    "\n",
    "                    \n",
    "                                \n",
    "            if (float(best_data[4]) < best_result['P_B']):\n",
    "                best_result['D'] = best_data[0]\n",
    "                best_result['AEdAO'] = best_data[1]\n",
    "                best_result['PdD'] = best_data[2]\n",
    "                best_result['Z'] = best_data[3]\n",
    "                best_result['P_B'] = float(best_data[4])\n",
    "        \n",
    "        # Save best over all seeds\n",
    "        with open(speed_dir + '/best_configuration.csv', 'w') as csv_file:  \n",
    "            writer = csv.writer(csv_file)\n",
    "            for key, value in best_result.items():\n",
    "                writer.writerow([key, value])\n",
    "    \n",
    "        "
   ]
  },
  {
   "cell_type": "code",
   "execution_count": 16,
   "metadata": {},
   "outputs": [],
   "source": [
    "de_replicated_folder = 'DE_2024_04_11_13h26'\n",
    "\n",
    "generate_best_configuration_file(de_replicated_folder)"
   ]
  },
  {
   "cell_type": "code",
   "execution_count": 17,
   "metadata": {},
   "outputs": [],
   "source": [
    "de_proposed_folder = 'DE_mod_2024_04_14_10h23'\n",
    "\n",
    "generate_best_configuration_file(de_proposed_folder)"
   ]
  }
 ],
 "metadata": {
  "kernelspec": {
   "display_name": ".env",
   "language": "python",
   "name": "python3"
  },
  "language_info": {
   "codemirror_mode": {
    "name": "ipython",
    "version": 3
   },
   "file_extension": ".py",
   "mimetype": "text/x-python",
   "name": "python",
   "nbconvert_exporter": "python",
   "pygments_lexer": "ipython3",
   "version": "3.11.2"
  }
 },
 "nbformat": 4,
 "nbformat_minor": 2
}
