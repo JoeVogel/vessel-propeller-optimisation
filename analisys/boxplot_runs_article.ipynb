{
 "cells": [
  {
   "cell_type": "code",
   "execution_count": 11,
   "metadata": {},
   "outputs": [],
   "source": [
    "import numpy as np\n",
    "import matplotlib.pyplot as plt\n",
    "import seaborn as sns\n",
    "import pandas as pd\n",
    "\n",
    "import csv\n",
    "from os import listdir"
   ]
  },
  {
   "cell_type": "markdown",
   "metadata": {},
   "source": [
    "## Load files"
   ]
  },
  {
   "cell_type": "code",
   "execution_count": 19,
   "metadata": {},
   "outputs": [],
   "source": [
    "# path to directory containing all the solvers folders \n",
    "dir_run = '../results'"
   ]
  },
  {
   "cell_type": "code",
   "execution_count": 20,
   "metadata": {},
   "outputs": [],
   "source": [
    "def get_best_result_df(best_result_file_path):\n",
    "    history = []\n",
    "    with open(best_result_file_path, 'r', newline='') as file:\n",
    "        reader = csv.reader(file)\n",
    "        counter = 0\n",
    "        for row in reader:\n",
    "            if counter == 1:\n",
    "                params = row\n",
    "            elif counter == 3:\n",
    "                history = row\n",
    "            elif counter == 5:\n",
    "                configs = row\n",
    "            counter += 1\n",
    "    # D, AEdAO, PdD, Z, fitness\n",
    "    D       = float(params[0])\n",
    "    AEdAO   = float(params[1])\n",
    "    PdD     = float(params[2])\n",
    "    Z       = int(params[3]) if len(params[3]) == 1 else int(float(params[3]))\n",
    "    fitness = float(params[6])\n",
    "    # history    \n",
    "    if len(history) > 0:\n",
    "        history = [float(h) for h in history]\n",
    "    # configs\n",
    "    solver_name = configs[0]\n",
    "    vs        = float(configs[1])\n",
    "    n_pop       = int(configs[2])\n",
    "    max_it      = int(configs[3])\n",
    "    seed        = int(configs[4])\n",
    "    # create new entry in df\n",
    "    new_data = {'D': D, \n",
    "                'AEdAO': AEdAO, \n",
    "                'PdD': PdD,\n",
    "                'Z': int(Z),\n",
    "                'Brake Power': -fitness,\n",
    "                'Seed': seed,\n",
    "                'Algorithm': solver_name,\n",
    "                'VS': vs,\n",
    "                'Npop': n_pop,\n",
    "                'maxIt': max_it}\n",
    "    return new_data"
   ]
  },
  {
   "cell_type": "code",
   "execution_count": 21,
   "metadata": {
    "scrolled": true
   },
   "outputs": [],
   "source": [
    "data = {'D': [], 'AEdAO': [], 'PdD': [], 'Z': [], 'Brake Power': [], 'Seed': [], 'Algorithm': [], 'VS': [], 'Npop':[], 'maxIt':[]}\n",
    "df_results = pd.DataFrame(data)\n",
    "\n",
    "# enter in the folders until reach the files with the executions\n",
    "for solver_run in listdir(dir_run):\n",
    "    solver_run = dir_run+'/'+solver_run\n",
    "    # dir's created by the multiple_run_solver\n",
    "    for solver_vs in listdir(solver_run):\n",
    "        solver_vs = solver_run+'/'+solver_vs\n",
    "        for dir_seed in listdir(solver_vs):\n",
    "            \n",
    "            if (dir_seed == 'best_configuration.csv'):\n",
    "                continue\n",
    "            \n",
    "            dir_seed = solver_vs+'/'+dir_seed\n",
    "            # get the file with best results for that seed execution\n",
    "            \n",
    "            best_result_file = [filename for filename in listdir(dir_seed) if 'best_results' in filename]\n",
    "            if len(best_result_file) > 0:\n",
    "                best_result_file = best_result_file[0]\n",
    "                best_result_file = dir_seed+'/'+best_result_file\n",
    "                new_data = get_best_result_df(best_result_file)\n",
    "                df_results = pd.concat([df_results, pd.DataFrame(new_data, index=[0])], ignore_index=True)\n",
    "            else:\n",
    "                print('not able to find best result file in', dir_seed)\n"
   ]
  },
  {
   "cell_type": "code",
   "execution_count": 22,
   "metadata": {},
   "outputs": [],
   "source": [
    "# remove not used 'pop size', 'max generations'\n",
    "df_results = df_results.drop(['Npop', 'maxIt'], axis=1)"
   ]
  },
  {
   "cell_type": "code",
   "execution_count": 23,
   "metadata": {},
   "outputs": [],
   "source": [
    "# rename Algorithm col\n",
    "solver_renames = {'cmaes':    'CMA-ES',\n",
    "                  'openaies': 'OpenAI-ES',\n",
    "                  'DE':       'DE Replicated',\n",
    "                  'DE_mod':   'DE Proposed'\n",
    "                 }\n",
    "\n",
    "df_results['Algorithm'] = df_results['Algorithm'].replace(solver_renames)"
   ]
  },
  {
   "cell_type": "code",
   "execution_count": 24,
   "metadata": {},
   "outputs": [
    {
     "data": {
      "text/plain": [
       "140"
      ]
     },
     "execution_count": 24,
     "metadata": {},
     "output_type": "execute_result"
    }
   ],
   "source": [
    "len(df_results)"
   ]
  },
  {
   "cell_type": "code",
   "execution_count": null,
   "metadata": {
    "scrolled": true
   },
   "outputs": [],
   "source": [
    "df_results"
   ]
  },
  {
   "cell_type": "markdown",
   "metadata": {},
   "source": [
    "show info"
   ]
  },
  {
   "cell_type": "code",
   "execution_count": 25,
   "metadata": {},
   "outputs": [
    {
     "data": {
      "text/plain": [
       "VS   Algorithm    \n",
       "7.0  CMA-ES            81.475936\n",
       "     DE Proposed       81.466281\n",
       "     DE Replicated     81.551321\n",
       "     OpenAI-ES         82.008907\n",
       "7.5  CMA-ES           106.278583\n",
       "     DE Proposed      106.294594\n",
       "     DE Replicated    106.519686\n",
       "     OpenAI-ES        107.285511\n",
       "8.0  CMA-ES           135.609221\n",
       "     DE Proposed      135.181757\n",
       "     OpenAI-ES        136.560257\n",
       "8.5  CMA-ES           169.627690\n",
       "     DE Proposed      169.911314\n",
       "     OpenAI-ES        171.067343\n",
       "Name: Brake Power, dtype: float64"
      ]
     },
     "execution_count": 25,
     "metadata": {},
     "output_type": "execute_result"
    }
   ],
   "source": [
    "df_results.groupby(['VS', 'Algorithm'])['Brake Power'].mean()"
   ]
  },
  {
   "cell_type": "markdown",
   "metadata": {},
   "source": [
    "Compare"
   ]
  },
  {
   "cell_type": "code",
   "execution_count": 26,
   "metadata": {
    "scrolled": true
   },
   "outputs": [
    {
     "data": {
      "text/html": [
       "<div>\n",
       "<style scoped>\n",
       "    .dataframe tbody tr th:only-of-type {\n",
       "        vertical-align: middle;\n",
       "    }\n",
       "\n",
       "    .dataframe tbody tr th {\n",
       "        vertical-align: top;\n",
       "    }\n",
       "\n",
       "    .dataframe thead th {\n",
       "        text-align: right;\n",
       "    }\n",
       "</style>\n",
       "<table border=\"1\" class=\"dataframe\">\n",
       "  <thead>\n",
       "    <tr style=\"text-align: right;\">\n",
       "      <th></th>\n",
       "      <th>D</th>\n",
       "      <th>AEdAO</th>\n",
       "      <th>PdD</th>\n",
       "      <th>Z</th>\n",
       "      <th>Brake Power</th>\n",
       "      <th>Seed</th>\n",
       "      <th>Algorithm</th>\n",
       "      <th>VS</th>\n",
       "    </tr>\n",
       "  </thead>\n",
       "  <tbody>\n",
       "    <tr>\n",
       "      <th>6</th>\n",
       "      <td>0.799999</td>\n",
       "      <td>0.632382</td>\n",
       "      <td>0.666291</td>\n",
       "      <td>5.0</td>\n",
       "      <td>81.413114</td>\n",
       "      <td>6.0</td>\n",
       "      <td>CMA-ES</td>\n",
       "      <td>7.0</td>\n",
       "    </tr>\n",
       "    <tr>\n",
       "      <th>53</th>\n",
       "      <td>0.799869</td>\n",
       "      <td>0.485260</td>\n",
       "      <td>0.671236</td>\n",
       "      <td>5.0</td>\n",
       "      <td>105.648490</td>\n",
       "      <td>3.0</td>\n",
       "      <td>DE Replicated</td>\n",
       "      <td>7.5</td>\n",
       "    </tr>\n",
       "    <tr>\n",
       "      <th>87</th>\n",
       "      <td>0.786619</td>\n",
       "      <td>0.309595</td>\n",
       "      <td>0.558774</td>\n",
       "      <td>2.0</td>\n",
       "      <td>130.222013</td>\n",
       "      <td>7.0</td>\n",
       "      <td>DE Proposed</td>\n",
       "      <td>8.0</td>\n",
       "    </tr>\n",
       "    <tr>\n",
       "      <th>93</th>\n",
       "      <td>0.790742</td>\n",
       "      <td>0.347203</td>\n",
       "      <td>0.691243</td>\n",
       "      <td>3.0</td>\n",
       "      <td>165.858764</td>\n",
       "      <td>3.0</td>\n",
       "      <td>DE Proposed</td>\n",
       "      <td>8.5</td>\n",
       "    </tr>\n",
       "  </tbody>\n",
       "</table>\n",
       "</div>"
      ],
      "text/plain": [
       "           D     AEdAO       PdD    Z  Brake Power  Seed      Algorithm   VS\n",
       "6   0.799999  0.632382  0.666291  5.0    81.413114   6.0         CMA-ES  7.0\n",
       "53  0.799869  0.485260  0.671236  5.0   105.648490   3.0  DE Replicated  7.5\n",
       "87  0.786619  0.309595  0.558774  2.0   130.222013   7.0    DE Proposed  8.0\n",
       "93  0.790742  0.347203  0.691243  3.0   165.858764   3.0    DE Proposed  8.5"
      ]
     },
     "execution_count": 26,
     "metadata": {},
     "output_type": "execute_result"
    }
   ],
   "source": [
    "# Find the index of the row with the minimal fitness value\n",
    "min_fitness_index = df_results.groupby(['VS'])['Brake Power'].idxmin()\n",
    "\n",
    "# Get the row with the minimal fitness value\n",
    "min_fitness_row = df_results.loc[min_fitness_index]\n",
    "\n",
    "min_fitness_row"
   ]
  },
  {
   "cell_type": "code",
   "execution_count": 27,
   "metadata": {},
   "outputs": [
    {
     "name": "stdout",
     "output_type": "stream",
     "text": [
      "VS   Algorithm    \n",
      "7.0  CMA-ES            81.413114\n",
      "     DE Proposed       81.416083\n",
      "     DE Replicated     81.432608\n",
      "     OpenAI-ES         81.434983\n",
      "7.5  CMA-ES           106.211652\n",
      "     DE Proposed      106.219254\n",
      "     DE Replicated    105.648490\n",
      "     OpenAI-ES        106.481633\n",
      "8.0  CMA-ES           135.580055\n",
      "     DE Proposed      130.222013\n",
      "     OpenAI-ES        135.624596\n",
      "8.5  CMA-ES           169.441851\n",
      "     DE Proposed      165.858764\n",
      "     OpenAI-ES        169.455708\n",
      "Name: Brake Power, dtype: float64\n"
     ]
    }
   ],
   "source": [
    "lower_values = df_results.groupby(['VS', 'Algorithm'])['Brake Power'].min()\n",
    "print(lower_values)"
   ]
  },
  {
   "cell_type": "code",
   "execution_count": 28,
   "metadata": {},
   "outputs": [],
   "source": [
    "df_vs_7_0 = df_results[df_results['VS'] == 7]\n",
    "df_vs_7_5 = df_results[df_results['VS'] == 7.5]\n",
    "df_vs_8_0 = df_results[df_results['VS'] == 8]\n",
    "df_vs_8_5 = df_results[df_results['VS'] == 8.5]"
   ]
  },
  {
   "cell_type": "markdown",
   "metadata": {},
   "source": [
    "## Tables"
   ]
  },
  {
   "cell_type": "code",
   "execution_count": 29,
   "metadata": {},
   "outputs": [],
   "source": [
    "def get_min_row(data):\n",
    "    index_min_PB = data.groupby('Algorithm')['Brake Power'].idxmin()\n",
    "    # Select original rows using index\n",
    "    rows_min_PB = data.loc[index_min_PB]\n",
    "    return rows_min_PB\n",
    "\n",
    "def get_min(data):\n",
    "    min_PB = data.groupby('Algorithm')['Brake Power'].min()\n",
    "    return min_PB"
   ]
  },
  {
   "cell_type": "code",
   "execution_count": 30,
   "metadata": {},
   "outputs": [],
   "source": [
    "vs = 8.0"
   ]
  },
  {
   "cell_type": "code",
   "execution_count": 31,
   "metadata": {},
   "outputs": [
    {
     "data": {
      "text/plain": [
       "Algorithm\n",
       "CMA-ES         135.580055\n",
       "DE Proposed    130.222013\n",
       "OpenAI-ES      135.624596\n",
       "Name: Brake Power, dtype: float64"
      ]
     },
     "execution_count": 31,
     "metadata": {},
     "output_type": "execute_result"
    }
   ],
   "source": [
    "df_results[df_results['VS'] == vs].groupby('Algorithm')['Brake Power'].min()"
   ]
  },
  {
   "cell_type": "code",
   "execution_count": 32,
   "metadata": {},
   "outputs": [
    {
     "name": "stdout",
     "output_type": "stream",
     "text": [
      "VS Algortihm D AE/AO P/D Z\n",
      "CMA-ES & 8.0 & 0.800 & 0.892 & 0.671 & 6 \\\\\n",
      "DE Proposed & 3.0 & 0.791 & 0.347 & 0.691 & 3 \\\\\n",
      "OpenAI-ES & 2.0 & 0.800 & 0.893 & 0.672 & 6 \\\\\n"
     ]
    }
   ],
   "source": [
    "print('VS Algortihm D AE/AO P/D Z')\n",
    "for r in get_min_row(data = df_vs_8_5).to_numpy():\n",
    "    d    = r[0]\n",
    "    aedao= r[1]\n",
    "    pdd  = r[2]\n",
    "    z    = r[3]\n",
    "    pb   = r[4]\n",
    "    algor= r[5]\n",
    "    vs   = r[6]\n",
    "    z = int(z)\n",
    "    print(f'{vs} & {algor} & {d:.3f} & {aedao:.3f} & {pdd:.3f} & {z}' + \" \\\\\\\\\" )"
   ]
  },
  {
   "cell_type": "code",
   "execution_count": 33,
   "metadata": {},
   "outputs": [
    {
     "data": {
      "text/html": [
       "<div>\n",
       "<style scoped>\n",
       "    .dataframe tbody tr th:only-of-type {\n",
       "        vertical-align: middle;\n",
       "    }\n",
       "\n",
       "    .dataframe tbody tr th {\n",
       "        vertical-align: top;\n",
       "    }\n",
       "\n",
       "    .dataframe thead th {\n",
       "        text-align: right;\n",
       "    }\n",
       "</style>\n",
       "<table border=\"1\" class=\"dataframe\">\n",
       "  <thead>\n",
       "    <tr style=\"text-align: right;\">\n",
       "      <th></th>\n",
       "      <th>D</th>\n",
       "      <th>AEdAO</th>\n",
       "      <th>PdD</th>\n",
       "      <th>Z</th>\n",
       "      <th>Brake Power</th>\n",
       "      <th>Seed</th>\n",
       "      <th>Algorithm</th>\n",
       "      <th>VS</th>\n",
       "    </tr>\n",
       "  </thead>\n",
       "  <tbody>\n",
       "    <tr>\n",
       "      <th>90</th>\n",
       "      <td>0.800000</td>\n",
       "      <td>0.921935</td>\n",
       "      <td>0.709150</td>\n",
       "      <td>5.0</td>\n",
       "      <td>170.318579</td>\n",
       "      <td>0.0</td>\n",
       "      <td>DE Proposed</td>\n",
       "      <td>8.5</td>\n",
       "    </tr>\n",
       "    <tr>\n",
       "      <th>91</th>\n",
       "      <td>0.800000</td>\n",
       "      <td>0.898796</td>\n",
       "      <td>0.674600</td>\n",
       "      <td>6.0</td>\n",
       "      <td>169.532497</td>\n",
       "      <td>1.0</td>\n",
       "      <td>DE Proposed</td>\n",
       "      <td>8.5</td>\n",
       "    </tr>\n",
       "    <tr>\n",
       "      <th>92</th>\n",
       "      <td>0.792458</td>\n",
       "      <td>0.823268</td>\n",
       "      <td>0.856221</td>\n",
       "      <td>7.0</td>\n",
       "      <td>172.288138</td>\n",
       "      <td>2.0</td>\n",
       "      <td>DE Proposed</td>\n",
       "      <td>8.5</td>\n",
       "    </tr>\n",
       "    <tr>\n",
       "      <th>93</th>\n",
       "      <td>0.790742</td>\n",
       "      <td>0.347203</td>\n",
       "      <td>0.691243</td>\n",
       "      <td>3.0</td>\n",
       "      <td>165.858764</td>\n",
       "      <td>3.0</td>\n",
       "      <td>DE Proposed</td>\n",
       "      <td>8.5</td>\n",
       "    </tr>\n",
       "    <tr>\n",
       "      <th>94</th>\n",
       "      <td>0.800000</td>\n",
       "      <td>0.912050</td>\n",
       "      <td>0.701183</td>\n",
       "      <td>6.0</td>\n",
       "      <td>169.668736</td>\n",
       "      <td>4.0</td>\n",
       "      <td>DE Proposed</td>\n",
       "      <td>8.5</td>\n",
       "    </tr>\n",
       "    <tr>\n",
       "      <th>95</th>\n",
       "      <td>0.800000</td>\n",
       "      <td>0.950115</td>\n",
       "      <td>0.715089</td>\n",
       "      <td>6.0</td>\n",
       "      <td>170.376687</td>\n",
       "      <td>5.0</td>\n",
       "      <td>DE Proposed</td>\n",
       "      <td>8.5</td>\n",
       "    </tr>\n",
       "    <tr>\n",
       "      <th>96</th>\n",
       "      <td>0.800000</td>\n",
       "      <td>0.892744</td>\n",
       "      <td>0.656664</td>\n",
       "      <td>6.0</td>\n",
       "      <td>169.694272</td>\n",
       "      <td>6.0</td>\n",
       "      <td>DE Proposed</td>\n",
       "      <td>8.5</td>\n",
       "    </tr>\n",
       "    <tr>\n",
       "      <th>97</th>\n",
       "      <td>0.800000</td>\n",
       "      <td>0.936569</td>\n",
       "      <td>0.702130</td>\n",
       "      <td>6.0</td>\n",
       "      <td>170.108015</td>\n",
       "      <td>7.0</td>\n",
       "      <td>DE Proposed</td>\n",
       "      <td>8.5</td>\n",
       "    </tr>\n",
       "    <tr>\n",
       "      <th>98</th>\n",
       "      <td>0.800000</td>\n",
       "      <td>0.898281</td>\n",
       "      <td>0.683604</td>\n",
       "      <td>5.0</td>\n",
       "      <td>169.963420</td>\n",
       "      <td>8.0</td>\n",
       "      <td>DE Proposed</td>\n",
       "      <td>8.5</td>\n",
       "    </tr>\n",
       "    <tr>\n",
       "      <th>99</th>\n",
       "      <td>0.800000</td>\n",
       "      <td>0.985712</td>\n",
       "      <td>0.759665</td>\n",
       "      <td>6.0</td>\n",
       "      <td>171.304036</td>\n",
       "      <td>9.0</td>\n",
       "      <td>DE Proposed</td>\n",
       "      <td>8.5</td>\n",
       "    </tr>\n",
       "  </tbody>\n",
       "</table>\n",
       "</div>"
      ],
      "text/plain": [
       "           D     AEdAO       PdD    Z  Brake Power  Seed    Algorithm   VS\n",
       "90  0.800000  0.921935  0.709150  5.0   170.318579   0.0  DE Proposed  8.5\n",
       "91  0.800000  0.898796  0.674600  6.0   169.532497   1.0  DE Proposed  8.5\n",
       "92  0.792458  0.823268  0.856221  7.0   172.288138   2.0  DE Proposed  8.5\n",
       "93  0.790742  0.347203  0.691243  3.0   165.858764   3.0  DE Proposed  8.5\n",
       "94  0.800000  0.912050  0.701183  6.0   169.668736   4.0  DE Proposed  8.5\n",
       "95  0.800000  0.950115  0.715089  6.0   170.376687   5.0  DE Proposed  8.5\n",
       "96  0.800000  0.892744  0.656664  6.0   169.694272   6.0  DE Proposed  8.5\n",
       "97  0.800000  0.936569  0.702130  6.0   170.108015   7.0  DE Proposed  8.5\n",
       "98  0.800000  0.898281  0.683604  5.0   169.963420   8.0  DE Proposed  8.5\n",
       "99  0.800000  0.985712  0.759665  6.0   171.304036   9.0  DE Proposed  8.5"
      ]
     },
     "execution_count": 33,
     "metadata": {},
     "output_type": "execute_result"
    }
   ],
   "source": [
    "df_results[(df_results['VS'] == 8.5) & (df_results['Algorithm'] == 'DE Proposed')]"
   ]
  },
  {
   "cell_type": "markdown",
   "metadata": {},
   "source": [
    "## Graphs"
   ]
  },
  {
   "cell_type": "code",
   "execution_count": 34,
   "metadata": {},
   "outputs": [],
   "source": [
    "def create_img(data, order, save=False, name='img'):\n",
    "    fig, ax = plt.subplots()\n",
    "\n",
    "    sns.boxplot(y=\"Brake Power\",\n",
    "                x = \"Algorithm\",\n",
    "                hue = 'Algorithm',\n",
    "                data=data,\n",
    "                order=order\n",
    "                )\n",
    "\n",
    "    sns.set_style(\"whitegrid\")\n",
    "    sns.set(rc={'figure.figsize':(12,9)})\n",
    "    plt.xticks(fontsize=14)\n",
    "    plt.yticks(fontsize=15)\n",
    "    title_text = \"VS = \"\n",
    "    for v in data['VS'].unique():\n",
    "        title_text += str(v)\n",
    "    plt.title(title_text, fontsize=15)\n",
    "    plt.xlabel('Algorithm',  fontsize=16)\n",
    "    plt.ylabel('Brake Power',fontsize=18)\n",
    "\n",
    "    if save:\n",
    "        plt.tight_layout()\n",
    "        plt.savefig(name+\".pdf\", dpi=300)"
   ]
  },
  {
   "cell_type": "code",
   "execution_count": 35,
   "metadata": {},
   "outputs": [],
   "source": [
    "save = False"
   ]
  },
  {
   "cell_type": "code",
   "execution_count": null,
   "metadata": {
    "scrolled": false
   },
   "outputs": [],
   "source": [
    "create_img(data = df_vs_7_0,\n",
    "           order=['DE Replicated', 'DE Proposed', 'CMA-ES', 'OpenAI-ES'],\n",
    "           save=save,\n",
    "           name='boxplot_7_0' )"
   ]
  },
  {
   "cell_type": "code",
   "execution_count": null,
   "metadata": {},
   "outputs": [],
   "source": [
    "create_img(data = df_vs_7_5,\n",
    "           order=['DE Replicated', 'DE Proposed', 'CMA-ES', 'OpenAI-ES'],\n",
    "           save=save,\n",
    "           name='boxplot_7_5' )"
   ]
  },
  {
   "cell_type": "code",
   "execution_count": null,
   "metadata": {},
   "outputs": [],
   "source": [
    "create_img(data = df_vs_8_0,\n",
    "           order=['DE Proposed', 'CMA-ES', 'OpenAI-ES'],\n",
    "           save=save,\n",
    "           name='boxplot_8_0' )"
   ]
  },
  {
   "cell_type": "code",
   "execution_count": null,
   "metadata": {},
   "outputs": [],
   "source": [
    "create_img(data = df_vs_8_5,\n",
    "           order=['DE Proposed', 'CMA-ES', 'OpenAI-ES'],\n",
    "           save=save,\n",
    "           name='boxplot_8_5' )"
   ]
  },
  {
   "cell_type": "markdown",
   "metadata": {},
   "source": [
    "## Double graphs"
   ]
  },
  {
   "cell_type": "code",
   "execution_count": 40,
   "metadata": {},
   "outputs": [],
   "source": [
    "rename_dict = {'CMA-ES': 'CMA-ES',\n",
    "               'OpenAI-ES': 'OpenAI-ES',\n",
    "               'DE Replicated': 'DE\\nReplicated',\n",
    "               'DE Proposed': 'DE\\nProposed'\n",
    "              }\n",
    "\n",
    "custom_order = {\n",
    "    'DE\\nReplicated': 1,\n",
    "    'DE\\nProposed':   2,\n",
    "    'CMA-ES':         3,\n",
    "    'OpenAI-ES':      4\n",
    "}"
   ]
  },
  {
   "cell_type": "code",
   "execution_count": 41,
   "metadata": {},
   "outputs": [],
   "source": [
    "font_size = 14\n",
    "\n",
    "def multiple_boxplot(vs_values, save=False, only_put_1_legend=False):\n",
    "    # Create subplots with a shared x-axis\n",
    "    fig, ax = plt.subplots(1, len(vs_values), sharey='col', figsize=(11, 7))\n",
    "\n",
    "    for i, vs in enumerate(vs_values):\n",
    "        df_temp = df_results[df_results['VS'] == vs]\n",
    "        # rename \n",
    "        df_temp.loc[:,'Algorithm'] = df_temp['Algorithm'].map(rename_dict)\n",
    "        # Get unique values and sort them based on the custom order\n",
    "        unique_values = sorted(df_temp['Algorithm'].unique(), key=lambda x: custom_order[x])\n",
    "\n",
    "        # create the box plot\n",
    "        sns.boxplot(y=\"Brake Power\", \n",
    "                    x = \"Algorithm\",\n",
    "                    hue = 'Algorithm',\n",
    "                    order=unique_values,\n",
    "#                         palette=\"hls\", # Colors\n",
    "                    data=df_temp, ax=ax[i])  \n",
    "\n",
    "        # Set the title for the subplot\n",
    "        ax[i].set_title(f'VS = {vs}',   fontsize=font_size)\n",
    "        ax[i].tick_params(axis='both', labelsize=font_size) \n",
    "        # Set labels for x and y axes\n",
    "        ax[i].set_xlabel('Algorithm',   fontsize=font_size)\n",
    "        ax[i].set_ylabel('Brake Power', fontsize=font_size)\n",
    "\n",
    "        # ylim\n",
    "        minmax = df_temp['Brake Power'].agg(['min', 'max']).to_list()\n",
    "        ax[i].set_ylim(minmax[0]*0.999, minmax[1]*1.001) \n",
    "        \n",
    "        if only_put_1_legend:\n",
    "            # only put 1 legend\n",
    "            if i == 1:\n",
    "        #         ax[i].legend(loc='upper right')\n",
    "                legend = ax[i].legend(loc='upper left', bbox_to_anchor=(1, 1))\n",
    "            else:\n",
    "                ax[i].legend([],[], frameon=False)\n",
    "\n",
    "    # Adjust spacing between subplots\n",
    "    plt.tight_layout()\n",
    "    \n",
    "    # save\n",
    "    if save:\n",
    "        name_f  = 'boxplot'\n",
    "        # speed\n",
    "        name_f += '_' + \"and\".join([str(v) for v in vs_values])\n",
    "        name_f  = name_f.replace('.','_')\n",
    "        # file type\n",
    "        name_f += '.pdf'\n",
    "        plt.savefig(name_f, bbox_inches='tight')\n",
    "        print('saved', name_f)\n",
    "\n",
    "    # Show the plot\n",
    "    plt.show()"
   ]
  },
  {
   "cell_type": "code",
   "execution_count": 42,
   "metadata": {},
   "outputs": [],
   "source": [
    "save=True"
   ]
  },
  {
   "cell_type": "code",
   "execution_count": 43,
   "metadata": {},
   "outputs": [
    {
     "name": "stdout",
     "output_type": "stream",
     "text": [
      "saved boxplot_7_0and7_5.pdf\n"
     ]
    },
    {
     "data": {
      "image/png": "[encoded data removed]",
      "text/plain": [
       "<Figure size 1100x700 with 2 Axes>"
      ]
     },
     "metadata": {},
     "output_type": "display_data"
    }
   ],
   "source": [
    "multiple_boxplot([7.0, 7.5], save=save)"
   ]
  },
  {
   "cell_type": "code",
   "execution_count": 44,
   "metadata": {},
   "outputs": [
    {
     "name": "stdout",
     "output_type": "stream",
     "text": [
      "saved boxplot_8_0and8_5.pdf\n"
     ]
    },
    {
     "data": {
      "image/png": "[encoded data removed]",
      "text/plain": [
       "<Figure size 1100x700 with 2 Axes>"
      ]
     },
     "metadata": {},
     "output_type": "display_data"
    }
   ],
   "source": [
    "multiple_boxplot([8.0, 8.5], save=save)"
   ]
  },
  {
   "cell_type": "code",
   "execution_count": null,
   "metadata": {},
   "outputs": [],
   "source": []
  }
 ],
 "metadata": {
  "kernelspec": {
   "display_name": "Python 3 (ipykernel)",
   "language": "python",
   "name": "python3"
  },
  "language_info": {
   "codemirror_mode": {
    "name": "ipython",
    "version": 3
   },
   "file_extension": ".py",
   "mimetype": "text/x-python",
   "name": "python",
   "nbconvert_exporter": "python",
   "pygments_lexer": "ipython3",
   "version": "3.11.2"
  }
 },
 "nbformat": 4,
 "nbformat_minor": 2
}
