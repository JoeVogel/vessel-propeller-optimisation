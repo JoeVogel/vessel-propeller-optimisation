{
 "cells": [
  {
   "cell_type": "code",
   "execution_count": 9,
   "metadata": {},
   "outputs": [],
   "source": [
    "import numpy as np\n",
    "import matplotlib.pyplot as plt\n",
    "import seaborn as sns\n",
    "import pandas as pd\n",
    "\n",
    "import csv\n",
    "from os import listdir"
   ]
  },
  {
   "cell_type": "markdown",
   "metadata": {},
   "source": [
    "## Load files"
   ]
  },
  {
   "cell_type": "code",
   "execution_count": 10,
   "metadata": {},
   "outputs": [],
   "source": [
    "# path to directory containing all the solvers folders \n",
    "dir_run = '../results'"
   ]
  },
  {
   "cell_type": "code",
   "execution_count": 28,
   "metadata": {},
   "outputs": [],
   "source": [
    "def get_best_result_df(best_result_file_path):\n",
    "    history = []\n",
    "    with open(best_result_file_path, 'r', newline='') as file:\n",
    "        reader = csv.reader(file)\n",
    "        counter = 0\n",
    "        for row in reader:\n",
    "            if counter == 1:\n",
    "                params = row\n",
    "            elif counter == 3:\n",
    "                history = row\n",
    "            elif counter == 5:\n",
    "                configs = row\n",
    "            counter += 1\n",
    "    # D, AEdAO, PdD, Z, fitness\n",
    "    D       = float(params[0])\n",
    "    AEdAO   = float(params[1])\n",
    "    PdD     = float(params[2])\n",
    "    Z       = int(params[3]) if len(params[3]) == 1 else int(float(params[3]))\n",
    "    fitness = float(params[6])\n",
    "    # history    \n",
    "    if len(history) > 0:\n",
    "        history = [float(h) for h in history]\n",
    "    # configs\n",
    "    solver_name = configs[0]\n",
    "    vs        = float(configs[1])\n",
    "    n_pop       = int(configs[2])\n",
    "    max_it      = int(configs[3])\n",
    "    seed        = int(configs[4])\n",
    "    \n",
    "    if (solver_name == 'openaies' or solver_name == 'cmaes'):\n",
    "        fitness = -fitness\n",
    "    \n",
    "    # create new entry in df\n",
    "    new_data = {'D': D, \n",
    "                'AEdAO': AEdAO, \n",
    "                'PdD': PdD,\n",
    "                'Z': int(Z),\n",
    "                'Brake Power': fitness,\n",
    "                'Seed': seed,\n",
    "                'Algorithm': solver_name,\n",
    "                'VS': vs,\n",
    "                'Npop': n_pop,\n",
    "                'maxIt': max_it}\n",
    "    return new_data"
   ]
  },
  {
   "cell_type": "code",
   "execution_count": 51,
   "metadata": {
    "scrolled": true
   },
   "outputs": [],
   "source": [
    "data = {'D': [], 'AEdAO': [], 'PdD': [], 'Z': [], 'Brake Power': [], 'Seed': [], 'Algorithm': [], 'VS': [], 'Npop':[], 'maxIt':[]}\n",
    "df_results = pd.DataFrame(data)\n",
    "\n",
    "# enter in the folders until reach the files with the executions\n",
    "for solver_run in listdir(dir_run):\n",
    "    solver_run = dir_run+'/'+solver_run\n",
    "    # dir's created by the multiple_run_solver\n",
    "    for solver_vs in listdir(solver_run):\n",
    "        solver_vs = solver_run+'/'+solver_vs\n",
    "        for dir_seed in listdir(solver_vs):\n",
    "            \n",
    "            if (dir_seed == 'best_configuration.csv'):\n",
    "                continue\n",
    "            \n",
    "            dir_seed = solver_vs+'/'+dir_seed\n",
    "            # get the file with best results for that seed execution\n",
    "            \n",
    "            best_result_file = [filename for filename in listdir(dir_seed) if 'best_results' in filename]\n",
    "            if len(best_result_file) > 0:\n",
    "                best_result_file = best_result_file[0]\n",
    "                best_result_file = dir_seed+'/'+best_result_file\n",
    "                new_data = get_best_result_df(best_result_file)\n",
    "                df_results = pd.concat([df_results, pd.DataFrame(new_data, index=[0])], ignore_index=True)\n",
    "            else:\n",
    "                print('not able to find best result file in', dir_seed)\n"
   ]
  },
  {
   "cell_type": "code",
   "execution_count": 52,
   "metadata": {},
   "outputs": [],
   "source": [
    "# remove not used 'pop size', 'max generations'\n",
    "df_results = df_results.drop(['Npop', 'maxIt'], axis=1)"
   ]
  },
  {
   "cell_type": "code",
   "execution_count": 53,
   "metadata": {},
   "outputs": [],
   "source": [
    "# rename Algorithm col\n",
    "solver_renames = {'cmaes':    'CMA-ES',\n",
    "                  'openaies': 'OpenAI-ES',\n",
    "                  'DE':       'Replicated DE',\n",
    "                  'DE_mod':   'Proposed DE'\n",
    "                 }\n",
    "\n",
    "df_results['Algorithm'] = df_results['Algorithm'].replace(solver_renames)"
   ]
  },
  {
   "cell_type": "code",
   "execution_count": 8,
   "metadata": {},
   "outputs": [
    {
     "data": {
      "text/plain": [
       "140"
      ]
     },
     "execution_count": 8,
     "metadata": {},
     "output_type": "execute_result"
    }
   ],
   "source": [
    "len(df_results)"
   ]
  },
  {
   "cell_type": "code",
   "execution_count": 15,
   "metadata": {
    "scrolled": true
   },
   "outputs": [
    {
     "data": {
      "text/html": [
       "<div>\n",
       "<style scoped>\n",
       "    .dataframe tbody tr th:only-of-type {\n",
       "        vertical-align: middle;\n",
       "    }\n",
       "\n",
       "    .dataframe tbody tr th {\n",
       "        vertical-align: top;\n",
       "    }\n",
       "\n",
       "    .dataframe thead th {\n",
       "        text-align: right;\n",
       "    }\n",
       "</style>\n",
       "<table border=\"1\" class=\"dataframe\">\n",
       "  <thead>\n",
       "    <tr style=\"text-align: right;\">\n",
       "      <th></th>\n",
       "      <th>D</th>\n",
       "      <th>AEdAO</th>\n",
       "      <th>PdD</th>\n",
       "      <th>Z</th>\n",
       "      <th>Brake Power</th>\n",
       "      <th>Seed</th>\n",
       "      <th>Algorithm</th>\n",
       "      <th>VS</th>\n",
       "    </tr>\n",
       "  </thead>\n",
       "  <tbody>\n",
       "    <tr>\n",
       "      <th>0</th>\n",
       "      <td>0.799987</td>\n",
       "      <td>0.633664</td>\n",
       "      <td>0.672028</td>\n",
       "      <td>5.0</td>\n",
       "      <td>81.413788</td>\n",
       "      <td>0.0</td>\n",
       "      <td>CMA-ES</td>\n",
       "      <td>7.0</td>\n",
       "    </tr>\n",
       "    <tr>\n",
       "      <th>1</th>\n",
       "      <td>0.799999</td>\n",
       "      <td>0.646034</td>\n",
       "      <td>0.677715</td>\n",
       "      <td>5.0</td>\n",
       "      <td>81.441559</td>\n",
       "      <td>1.0</td>\n",
       "      <td>CMA-ES</td>\n",
       "      <td>7.0</td>\n",
       "    </tr>\n",
       "    <tr>\n",
       "      <th>2</th>\n",
       "      <td>0.799930</td>\n",
       "      <td>0.644941</td>\n",
       "      <td>0.674038</td>\n",
       "      <td>5.0</td>\n",
       "      <td>81.448787</td>\n",
       "      <td>2.0</td>\n",
       "      <td>CMA-ES</td>\n",
       "      <td>7.0</td>\n",
       "    </tr>\n",
       "    <tr>\n",
       "      <th>3</th>\n",
       "      <td>0.799982</td>\n",
       "      <td>0.708452</td>\n",
       "      <td>0.721333</td>\n",
       "      <td>6.0</td>\n",
       "      <td>81.822126</td>\n",
       "      <td>3.0</td>\n",
       "      <td>CMA-ES</td>\n",
       "      <td>7.0</td>\n",
       "    </tr>\n",
       "    <tr>\n",
       "      <th>4</th>\n",
       "      <td>0.799685</td>\n",
       "      <td>0.638271</td>\n",
       "      <td>0.672324</td>\n",
       "      <td>5.0</td>\n",
       "      <td>81.453434</td>\n",
       "      <td>4.0</td>\n",
       "      <td>CMA-ES</td>\n",
       "      <td>7.0</td>\n",
       "    </tr>\n",
       "    <tr>\n",
       "      <th>...</th>\n",
       "      <td>...</td>\n",
       "      <td>...</td>\n",
       "      <td>...</td>\n",
       "      <td>...</td>\n",
       "      <td>...</td>\n",
       "      <td>...</td>\n",
       "      <td>...</td>\n",
       "      <td>...</td>\n",
       "    </tr>\n",
       "    <tr>\n",
       "      <th>135</th>\n",
       "      <td>0.800000</td>\n",
       "      <td>0.911744</td>\n",
       "      <td>0.665244</td>\n",
       "      <td>6.0</td>\n",
       "      <td>169.949451</td>\n",
       "      <td>5.0</td>\n",
       "      <td>OpenAI-ES</td>\n",
       "      <td>8.5</td>\n",
       "    </tr>\n",
       "    <tr>\n",
       "      <th>136</th>\n",
       "      <td>0.800000</td>\n",
       "      <td>1.003300</td>\n",
       "      <td>0.726210</td>\n",
       "      <td>6.0</td>\n",
       "      <td>171.671147</td>\n",
       "      <td>6.0</td>\n",
       "      <td>OpenAI-ES</td>\n",
       "      <td>8.5</td>\n",
       "    </tr>\n",
       "    <tr>\n",
       "      <th>137</th>\n",
       "      <td>0.800000</td>\n",
       "      <td>1.050000</td>\n",
       "      <td>0.737450</td>\n",
       "      <td>6.0</td>\n",
       "      <td>172.982277</td>\n",
       "      <td>7.0</td>\n",
       "      <td>OpenAI-ES</td>\n",
       "      <td>8.5</td>\n",
       "    </tr>\n",
       "    <tr>\n",
       "      <th>138</th>\n",
       "      <td>0.800000</td>\n",
       "      <td>0.965046</td>\n",
       "      <td>0.689676</td>\n",
       "      <td>6.0</td>\n",
       "      <td>170.904031</td>\n",
       "      <td>8.0</td>\n",
       "      <td>OpenAI-ES</td>\n",
       "      <td>8.5</td>\n",
       "    </tr>\n",
       "    <tr>\n",
       "      <th>139</th>\n",
       "      <td>0.800000</td>\n",
       "      <td>0.919526</td>\n",
       "      <td>0.676356</td>\n",
       "      <td>6.0</td>\n",
       "      <td>169.959028</td>\n",
       "      <td>9.0</td>\n",
       "      <td>OpenAI-ES</td>\n",
       "      <td>8.5</td>\n",
       "    </tr>\n",
       "  </tbody>\n",
       "</table>\n",
       "<p>140 rows × 8 columns</p>\n",
       "</div>"
      ],
      "text/plain": [
       "            D     AEdAO       PdD    Z  Brake Power  Seed  Algorithm   VS\n",
       "0    0.799987  0.633664  0.672028  5.0    81.413788   0.0     CMA-ES  7.0\n",
       "1    0.799999  0.646034  0.677715  5.0    81.441559   1.0     CMA-ES  7.0\n",
       "2    0.799930  0.644941  0.674038  5.0    81.448787   2.0     CMA-ES  7.0\n",
       "3    0.799982  0.708452  0.721333  6.0    81.822126   3.0     CMA-ES  7.0\n",
       "4    0.799685  0.638271  0.672324  5.0    81.453434   4.0     CMA-ES  7.0\n",
       "..        ...       ...       ...  ...          ...   ...        ...  ...\n",
       "135  0.800000  0.911744  0.665244  6.0   169.949451   5.0  OpenAI-ES  8.5\n",
       "136  0.800000  1.003300  0.726210  6.0   171.671147   6.0  OpenAI-ES  8.5\n",
       "137  0.800000  1.050000  0.737450  6.0   172.982277   7.0  OpenAI-ES  8.5\n",
       "138  0.800000  0.965046  0.689676  6.0   170.904031   8.0  OpenAI-ES  8.5\n",
       "139  0.800000  0.919526  0.676356  6.0   169.959028   9.0  OpenAI-ES  8.5\n",
       "\n",
       "[140 rows x 8 columns]"
      ]
     },
     "execution_count": 15,
     "metadata": {},
     "output_type": "execute_result"
    }
   ],
   "source": [
    "df_results"
   ]
  },
  {
   "cell_type": "markdown",
   "metadata": {},
   "source": [
    "show info"
   ]
  },
  {
   "cell_type": "code",
   "execution_count": 54,
   "metadata": {},
   "outputs": [
    {
     "data": {
      "text/plain": [
       "VS   Algorithm    \n",
       "7.0  CMA-ES            81.475936\n",
       "     OpenAI-ES         82.008907\n",
       "     Proposed DE       81.466281\n",
       "     Replicated DE     81.551321\n",
       "7.5  CMA-ES           106.278583\n",
       "     OpenAI-ES        107.285511\n",
       "     Proposed DE      106.294594\n",
       "     Replicated DE    106.597808\n",
       "8.0  CMA-ES           135.609221\n",
       "     OpenAI-ES        136.560257\n",
       "     Proposed DE      135.934097\n",
       "8.5  CMA-ES           169.627690\n",
       "     OpenAI-ES        171.067343\n",
       "     Proposed DE      170.393346\n",
       "Name: Brake Power, dtype: float64"
      ]
     },
     "execution_count": 54,
     "metadata": {},
     "output_type": "execute_result"
    }
   ],
   "source": [
    "df_results.groupby(['VS', 'Algorithm'])['Brake Power'].mean()"
   ]
  },
  {
   "cell_type": "markdown",
   "metadata": {},
   "source": [
    "Compare"
   ]
  },
  {
   "cell_type": "code",
   "execution_count": 55,
   "metadata": {
    "scrolled": true
   },
   "outputs": [
    {
     "data": {
      "text/html": [
       "<div>\n",
       "<style scoped>\n",
       "    .dataframe tbody tr th:only-of-type {\n",
       "        vertical-align: middle;\n",
       "    }\n",
       "\n",
       "    .dataframe tbody tr th {\n",
       "        vertical-align: top;\n",
       "    }\n",
       "\n",
       "    .dataframe thead th {\n",
       "        text-align: right;\n",
       "    }\n",
       "</style>\n",
       "<table border=\"1\" class=\"dataframe\">\n",
       "  <thead>\n",
       "    <tr style=\"text-align: right;\">\n",
       "      <th></th>\n",
       "      <th>D</th>\n",
       "      <th>AEdAO</th>\n",
       "      <th>PdD</th>\n",
       "      <th>Z</th>\n",
       "      <th>Brake Power</th>\n",
       "      <th>Seed</th>\n",
       "      <th>Algorithm</th>\n",
       "      <th>VS</th>\n",
       "    </tr>\n",
       "  </thead>\n",
       "  <tbody>\n",
       "    <tr>\n",
       "      <th>6</th>\n",
       "      <td>0.799999</td>\n",
       "      <td>0.632382</td>\n",
       "      <td>0.666291</td>\n",
       "      <td>5.0</td>\n",
       "      <td>81.413114</td>\n",
       "      <td>6.0</td>\n",
       "      <td>CMA-ES</td>\n",
       "      <td>7.0</td>\n",
       "    </tr>\n",
       "    <tr>\n",
       "      <th>13</th>\n",
       "      <td>0.799971</td>\n",
       "      <td>0.707176</td>\n",
       "      <td>0.667861</td>\n",
       "      <td>5.0</td>\n",
       "      <td>106.211652</td>\n",
       "      <td>3.0</td>\n",
       "      <td>CMA-ES</td>\n",
       "      <td>7.5</td>\n",
       "    </tr>\n",
       "    <tr>\n",
       "      <th>23</th>\n",
       "      <td>0.799999</td>\n",
       "      <td>0.787442</td>\n",
       "      <td>0.661302</td>\n",
       "      <td>5.0</td>\n",
       "      <td>135.580055</td>\n",
       "      <td>3.0</td>\n",
       "      <td>CMA-ES</td>\n",
       "      <td>8.0</td>\n",
       "    </tr>\n",
       "    <tr>\n",
       "      <th>38</th>\n",
       "      <td>0.800000</td>\n",
       "      <td>0.891859</td>\n",
       "      <td>0.670561</td>\n",
       "      <td>6.0</td>\n",
       "      <td>169.441851</td>\n",
       "      <td>8.0</td>\n",
       "      <td>CMA-ES</td>\n",
       "      <td>8.5</td>\n",
       "    </tr>\n",
       "  </tbody>\n",
       "</table>\n",
       "</div>"
      ],
      "text/plain": [
       "           D     AEdAO       PdD    Z  Brake Power  Seed Algorithm   VS\n",
       "6   0.799999  0.632382  0.666291  5.0    81.413114   6.0    CMA-ES  7.0\n",
       "13  0.799971  0.707176  0.667861  5.0   106.211652   3.0    CMA-ES  7.5\n",
       "23  0.799999  0.787442  0.661302  5.0   135.580055   3.0    CMA-ES  8.0\n",
       "38  0.800000  0.891859  0.670561  6.0   169.441851   8.0    CMA-ES  8.5"
      ]
     },
     "execution_count": 55,
     "metadata": {},
     "output_type": "execute_result"
    }
   ],
   "source": [
    "# Find the index of the row with the minimal fitness value\n",
    "min_fitness_index = df_results.groupby(['VS'])['Brake Power'].idxmin()\n",
    "\n",
    "# Get the row with the minimal fitness value\n",
    "min_fitness_row = df_results.loc[min_fitness_index]\n",
    "\n",
    "min_fitness_row"
   ]
  },
  {
   "cell_type": "code",
   "execution_count": 56,
   "metadata": {},
   "outputs": [
    {
     "name": "stdout",
     "output_type": "stream",
     "text": [
      "VS   Algorithm    \n",
      "7.0  CMA-ES            81.413114\n",
      "     OpenAI-ES         81.434983\n",
      "     Proposed DE       81.416083\n",
      "     Replicated DE     81.432608\n",
      "7.5  CMA-ES           106.211652\n",
      "     OpenAI-ES        106.481633\n",
      "     Proposed DE      106.219254\n",
      "     Replicated DE    106.294816\n",
      "8.0  CMA-ES           135.580055\n",
      "     OpenAI-ES        135.624596\n",
      "     Proposed DE      135.602710\n",
      "8.5  CMA-ES           169.441851\n",
      "     OpenAI-ES        169.455708\n",
      "     Proposed DE      169.532497\n",
      "Name: Brake Power, dtype: float64\n"
     ]
    }
   ],
   "source": [
    "lower_values = df_results.groupby(['VS', 'Algorithm'])['Brake Power'].min()\n",
    "print(lower_values)"
   ]
  },
  {
   "cell_type": "code",
   "execution_count": 57,
   "metadata": {},
   "outputs": [],
   "source": [
    "df_vs_7_0 = df_results[df_results['VS'] == 7]\n",
    "df_vs_7_5 = df_results[df_results['VS'] == 7.5]\n",
    "df_vs_8_0 = df_results[df_results['VS'] == 8]\n",
    "df_vs_8_5 = df_results[df_results['VS'] == 8.5]"
   ]
  },
  {
   "cell_type": "markdown",
   "metadata": {},
   "source": [
    "## Tables"
   ]
  },
  {
   "cell_type": "code",
   "execution_count": 58,
   "metadata": {},
   "outputs": [],
   "source": [
    "def get_min_row(data):\n",
    "    index_min_PB = data.groupby('Algorithm')['Brake Power'].idxmin()\n",
    "    # Select original rows using index\n",
    "    rows_min_PB = data.loc[index_min_PB]\n",
    "    return rows_min_PB\n",
    "\n",
    "def get_min(data):\n",
    "    min_PB = data.groupby('Algorithm')['Brake Power'].min()\n",
    "    return min_PB"
   ]
  },
  {
   "cell_type": "code",
   "execution_count": 59,
   "metadata": {},
   "outputs": [],
   "source": [
    "vs = 8.5"
   ]
  },
  {
   "cell_type": "code",
   "execution_count": 60,
   "metadata": {},
   "outputs": [
    {
     "data": {
      "text/plain": [
       "Algorithm\n",
       "CMA-ES         169.441851\n",
       "OpenAI-ES      169.455708\n",
       "Proposed DE    169.532497\n",
       "Name: Brake Power, dtype: float64"
      ]
     },
     "execution_count": 60,
     "metadata": {},
     "output_type": "execute_result"
    }
   ],
   "source": [
    "df_results[df_results['VS'] == vs].groupby('Algorithm')['Brake Power'].min()"
   ]
  },
  {
   "cell_type": "code",
   "execution_count": 61,
   "metadata": {},
   "outputs": [
    {
     "name": "stdout",
     "output_type": "stream",
     "text": [
      "VS Algortihm D AE/AO P/D Z\n",
      "CMA-ES & 0.800 & 0.632 & 0.666 & 5 \\\\\n",
      "OpenAI-ES & 0.800 & 0.633 & 0.660 & 5 \\\\\n",
      "Proposed DE & 0.800 & 0.630 & 0.665 & 5 \\\\\n",
      "Replicated DE & 0.800 & 0.626 & 0.655 & 5 \\\\\n"
     ]
    }
   ],
   "source": [
    "print('VS Algortihm D AE/AO P/D Z')\n",
    "for r in get_min_row(data = df_vs_7_0).to_numpy():\n",
    "    d    = r[0]\n",
    "    aedao= r[1]\n",
    "    pdd  = r[2]\n",
    "    z    = r[3]\n",
    "    pb   = r[4]\n",
    "    algor= r[6]\n",
    "    vs   = r[7]\n",
    "    z = int(z)\n",
    "    print(f'{algor} & {d:.3f} & {aedao:.3f} & {pdd:.3f} & {z}' + \" \\\\\\\\\" )"
   ]
  },
  {
   "cell_type": "code",
   "execution_count": 62,
   "metadata": {},
   "outputs": [
    {
     "name": "stdout",
     "output_type": "stream",
     "text": [
      "VS Algortihm D AE/AO P/D Z\n",
      "CMA-ES & 0.800 & 0.707 & 0.668 & 5 \\\\\n",
      "OpenAI-ES & 0.800 & 0.743 & 0.705 & 5 \\\\\n",
      "Proposed DE & 0.800 & 0.709 & 0.670 & 5 \\\\\n",
      "Replicated DE & 0.800 & 0.722 & 0.684 & 5 \\\\\n"
     ]
    }
   ],
   "source": [
    "print('VS Algortihm D AE/AO P/D Z')\n",
    "for r in get_min_row(data = df_vs_7_5).to_numpy():\n",
    "    d    = r[0]\n",
    "    aedao= r[1]\n",
    "    pdd  = r[2]\n",
    "    z    = r[3]\n",
    "    pb   = r[4]\n",
    "    algor= r[6]\n",
    "    vs   = r[7]\n",
    "    z = int(z)\n",
    "    print(f'{algor} & {d:.3f} & {aedao:.3f} & {pdd:.3f} & {z}' + \" \\\\\\\\\" )"
   ]
  },
  {
   "cell_type": "code",
   "execution_count": 63,
   "metadata": {},
   "outputs": [
    {
     "name": "stdout",
     "output_type": "stream",
     "text": [
      "VS Algortihm D AE/AO P/D Z\n",
      "CMA-ES & 0.800 & 0.787 & 0.661 & 5 \\\\\n",
      "OpenAI-ES & 0.800 & 0.798 & 0.665 & 6 \\\\\n",
      "Proposed DE & 0.800 & 0.806 & 0.675 & 6 \\\\\n"
     ]
    }
   ],
   "source": [
    "print('VS Algortihm D AE/AO P/D Z')\n",
    "for r in get_min_row(data = df_vs_8_0).to_numpy():\n",
    "    d    = r[0]\n",
    "    aedao= r[1]\n",
    "    pdd  = r[2]\n",
    "    z    = r[3]\n",
    "    pb   = r[4]\n",
    "    algor= r[6]\n",
    "    vs   = r[7]\n",
    "    z = int(z)\n",
    "    print(f'{algor} & {d:.3f} & {aedao:.3f} & {pdd:.3f} & {z}' + \" \\\\\\\\\" )"
   ]
  },
  {
   "cell_type": "code",
   "execution_count": 64,
   "metadata": {},
   "outputs": [
    {
     "name": "stdout",
     "output_type": "stream",
     "text": [
      "VS Algortihm D AE/AO P/D Z\n",
      "CMA-ES & 0.800 & 0.892 & 0.671 & 6 \\\\\n",
      "OpenAI-ES & 0.800 & 0.893 & 0.672 & 6 \\\\\n",
      "Proposed DE & 0.800 & 0.899 & 0.675 & 6 \\\\\n"
     ]
    }
   ],
   "source": [
    "print('VS Algortihm D AE/AO P/D Z')\n",
    "for r in get_min_row(data = df_vs_8_5).to_numpy():\n",
    "    d    = r[0]\n",
    "    aedao= r[1]\n",
    "    pdd  = r[2]\n",
    "    z    = r[3]\n",
    "    pb   = r[4]\n",
    "    algor= r[6]\n",
    "    vs   = r[7]\n",
    "    z = int(z)\n",
    "    print(f'{algor} & {d:.3f} & {aedao:.3f} & {pdd:.3f} & {z}' + \" \\\\\\\\\" )"
   ]
  },
  {
   "cell_type": "code",
   "execution_count": 65,
   "metadata": {},
   "outputs": [
    {
     "data": {
      "text/html": [
       "<div>\n",
       "<style scoped>\n",
       "    .dataframe tbody tr th:only-of-type {\n",
       "        vertical-align: middle;\n",
       "    }\n",
       "\n",
       "    .dataframe tbody tr th {\n",
       "        vertical-align: top;\n",
       "    }\n",
       "\n",
       "    .dataframe thead th {\n",
       "        text-align: right;\n",
       "    }\n",
       "</style>\n",
       "<table border=\"1\" class=\"dataframe\">\n",
       "  <thead>\n",
       "    <tr style=\"text-align: right;\">\n",
       "      <th></th>\n",
       "      <th>D</th>\n",
       "      <th>AEdAO</th>\n",
       "      <th>PdD</th>\n",
       "      <th>Z</th>\n",
       "      <th>Brake Power</th>\n",
       "      <th>Seed</th>\n",
       "      <th>Algorithm</th>\n",
       "      <th>VS</th>\n",
       "    </tr>\n",
       "  </thead>\n",
       "  <tbody>\n",
       "    <tr>\n",
       "      <th>50</th>\n",
       "      <td>0.8</td>\n",
       "      <td>0.791450</td>\n",
       "      <td>0.688724</td>\n",
       "      <td>6.0</td>\n",
       "      <td>106.824585</td>\n",
       "      <td>0.0</td>\n",
       "      <td>Replicated DE</td>\n",
       "      <td>7.5</td>\n",
       "    </tr>\n",
       "    <tr>\n",
       "      <th>51</th>\n",
       "      <td>0.8</td>\n",
       "      <td>0.745159</td>\n",
       "      <td>0.701431</td>\n",
       "      <td>5.0</td>\n",
       "      <td>106.481413</td>\n",
       "      <td>1.0</td>\n",
       "      <td>Replicated DE</td>\n",
       "      <td>7.5</td>\n",
       "    </tr>\n",
       "    <tr>\n",
       "      <th>52</th>\n",
       "      <td>0.8</td>\n",
       "      <td>0.684896</td>\n",
       "      <td>0.626173</td>\n",
       "      <td>5.0</td>\n",
       "      <td>106.370843</td>\n",
       "      <td>2.0</td>\n",
       "      <td>Replicated DE</td>\n",
       "      <td>7.5</td>\n",
       "    </tr>\n",
       "    <tr>\n",
       "      <th>53</th>\n",
       "      <td>0.8</td>\n",
       "      <td>0.735937</td>\n",
       "      <td>0.704851</td>\n",
       "      <td>5.0</td>\n",
       "      <td>106.429708</td>\n",
       "      <td>3.0</td>\n",
       "      <td>Replicated DE</td>\n",
       "      <td>7.5</td>\n",
       "    </tr>\n",
       "    <tr>\n",
       "      <th>54</th>\n",
       "      <td>0.8</td>\n",
       "      <td>0.795469</td>\n",
       "      <td>0.699079</td>\n",
       "      <td>5.0</td>\n",
       "      <td>106.936514</td>\n",
       "      <td>4.0</td>\n",
       "      <td>Replicated DE</td>\n",
       "      <td>7.5</td>\n",
       "    </tr>\n",
       "    <tr>\n",
       "      <th>55</th>\n",
       "      <td>0.8</td>\n",
       "      <td>0.767456</td>\n",
       "      <td>0.729379</td>\n",
       "      <td>6.0</td>\n",
       "      <td>106.586432</td>\n",
       "      <td>5.0</td>\n",
       "      <td>Replicated DE</td>\n",
       "      <td>7.5</td>\n",
       "    </tr>\n",
       "    <tr>\n",
       "      <th>56</th>\n",
       "      <td>0.8</td>\n",
       "      <td>0.742103</td>\n",
       "      <td>0.673651</td>\n",
       "      <td>6.0</td>\n",
       "      <td>106.614348</td>\n",
       "      <td>6.0</td>\n",
       "      <td>Replicated DE</td>\n",
       "      <td>7.5</td>\n",
       "    </tr>\n",
       "    <tr>\n",
       "      <th>57</th>\n",
       "      <td>0.8</td>\n",
       "      <td>0.752171</td>\n",
       "      <td>0.646442</td>\n",
       "      <td>5.0</td>\n",
       "      <td>106.755206</td>\n",
       "      <td>7.0</td>\n",
       "      <td>Replicated DE</td>\n",
       "      <td>7.5</td>\n",
       "    </tr>\n",
       "    <tr>\n",
       "      <th>58</th>\n",
       "      <td>0.8</td>\n",
       "      <td>0.743303</td>\n",
       "      <td>0.666116</td>\n",
       "      <td>6.0</td>\n",
       "      <td>106.684215</td>\n",
       "      <td>8.0</td>\n",
       "      <td>Replicated DE</td>\n",
       "      <td>7.5</td>\n",
       "    </tr>\n",
       "    <tr>\n",
       "      <th>59</th>\n",
       "      <td>0.8</td>\n",
       "      <td>0.722278</td>\n",
       "      <td>0.683577</td>\n",
       "      <td>5.0</td>\n",
       "      <td>106.294816</td>\n",
       "      <td>9.0</td>\n",
       "      <td>Replicated DE</td>\n",
       "      <td>7.5</td>\n",
       "    </tr>\n",
       "  </tbody>\n",
       "</table>\n",
       "</div>"
      ],
      "text/plain": [
       "      D     AEdAO       PdD    Z  Brake Power  Seed      Algorithm   VS\n",
       "50  0.8  0.791450  0.688724  6.0   106.824585   0.0  Replicated DE  7.5\n",
       "51  0.8  0.745159  0.701431  5.0   106.481413   1.0  Replicated DE  7.5\n",
       "52  0.8  0.684896  0.626173  5.0   106.370843   2.0  Replicated DE  7.5\n",
       "53  0.8  0.735937  0.704851  5.0   106.429708   3.0  Replicated DE  7.5\n",
       "54  0.8  0.795469  0.699079  5.0   106.936514   4.0  Replicated DE  7.5\n",
       "55  0.8  0.767456  0.729379  6.0   106.586432   5.0  Replicated DE  7.5\n",
       "56  0.8  0.742103  0.673651  6.0   106.614348   6.0  Replicated DE  7.5\n",
       "57  0.8  0.752171  0.646442  5.0   106.755206   7.0  Replicated DE  7.5\n",
       "58  0.8  0.743303  0.666116  6.0   106.684215   8.0  Replicated DE  7.5\n",
       "59  0.8  0.722278  0.683577  5.0   106.294816   9.0  Replicated DE  7.5"
      ]
     },
     "execution_count": 65,
     "metadata": {},
     "output_type": "execute_result"
    }
   ],
   "source": [
    "df_results[(df_results['VS'] == 7.5) & (df_results['Algorithm'] == 'Replicated DE')]"
   ]
  },
  {
   "cell_type": "markdown",
   "metadata": {},
   "source": [
    "## Graphs"
   ]
  },
  {
   "cell_type": "code",
   "execution_count": 66,
   "metadata": {},
   "outputs": [],
   "source": [
    "def create_img(data, order, save=False, name='img'):\n",
    "    fig, ax = plt.subplots()\n",
    "\n",
    "    sns.boxplot(y=\"Brake Power\",\n",
    "                x = \"Algorithm\",\n",
    "                hue = 'Algorithm',\n",
    "                data=data,\n",
    "                order=order\n",
    "                )\n",
    "\n",
    "    sns.set_style(\"whitegrid\")\n",
    "    sns.set(rc={'figure.figsize':(12,9)})\n",
    "    plt.xticks(fontsize=14)\n",
    "    plt.yticks(fontsize=15)\n",
    "    title_text = \"VS = \"\n",
    "    for v in data['VS'].unique():\n",
    "        title_text += str(v)\n",
    "    plt.title(title_text, fontsize=15)\n",
    "    plt.xlabel('Algorithm',  fontsize=16)\n",
    "    plt.ylabel('Brake Power',fontsize=18)\n",
    "\n",
    "    if save:\n",
    "        plt.tight_layout()\n",
    "        plt.savefig(name+\".pdf\", dpi=300)"
   ]
  },
  {
   "cell_type": "code",
   "execution_count": 17,
   "metadata": {},
   "outputs": [],
   "source": [
    "save = False"
   ]
  },
  {
   "cell_type": "code",
   "execution_count": null,
   "metadata": {
    "scrolled": false
   },
   "outputs": [],
   "source": [
    "create_img(data = df_vs_7_0,\n",
    "           order=['Replicated DE', 'Proposed DE', 'CMA-ES', 'OpenAI-ES'],\n",
    "           save=save,\n",
    "           name='boxplot_7_0' )"
   ]
  },
  {
   "cell_type": "code",
   "execution_count": null,
   "metadata": {},
   "outputs": [],
   "source": [
    "create_img(data = df_vs_7_5,\n",
    "           order=['Replicated DE', 'Proposed DE', 'CMA-ES', 'OpenAI-ES'],\n",
    "           save=save,\n",
    "           name='boxplot_7_5' )"
   ]
  },
  {
   "cell_type": "code",
   "execution_count": null,
   "metadata": {},
   "outputs": [],
   "source": [
    "create_img(data = df_vs_8_0,\n",
    "           order=['Replicated DE', 'Proposed DE', 'CMA-ES', 'OpenAI-ES'],\n",
    "           save=save,\n",
    "           name='boxplot_8_0' )"
   ]
  },
  {
   "cell_type": "code",
   "execution_count": null,
   "metadata": {},
   "outputs": [],
   "source": [
    "create_img(data = df_vs_8_5,\n",
    "           order=['Replicated DE', 'Proposed DE', 'CMA-ES', 'OpenAI-ES'],\n",
    "           save=save,\n",
    "           name='boxplot_8_5' )"
   ]
  },
  {
   "cell_type": "markdown",
   "metadata": {},
   "source": [
    "## Double graphs"
   ]
  },
  {
   "cell_type": "code",
   "execution_count": 72,
   "metadata": {},
   "outputs": [],
   "source": [
    "rename_dict = {'CMA-ES': 'CMA-ES',\n",
    "               'OpenAI-ES': 'OpenAI-ES',\n",
    "               'Replicated DE': 'DE\\nReplicated',\n",
    "               'Proposed DE': 'DE\\nProposed'\n",
    "              }\n",
    "\n",
    "custom_order = {\n",
    "    'DE\\nReplicated': 1,\n",
    "    'DE\\nProposed':   2,\n",
    "    'CMA-ES':         3,\n",
    "    'OpenAI-ES':      4\n",
    "}"
   ]
  },
  {
   "cell_type": "code",
   "execution_count": 73,
   "metadata": {},
   "outputs": [],
   "source": [
    "font_size = 16\n",
    "\n",
    "def multiple_boxplot(vs_values, save=False, only_put_1_legend=False):\n",
    "    # Create subplots with a shared x-axis\n",
    "    fig, ax = plt.subplots(1, len(vs_values), sharey='col', figsize=(11, 7))\n",
    "\n",
    "    for i, vs in enumerate(vs_values):\n",
    "        df_temp = df_results[df_results['VS'] == vs]\n",
    "        # rename \n",
    "        df_temp.loc[:,'Algorithm'] = df_temp['Algorithm'].map(rename_dict)\n",
    "        # Get unique values and sort them based on the custom order\n",
    "        unique_values = sorted(df_temp['Algorithm'].unique(), key=lambda x: custom_order[x])\n",
    "\n",
    "        # create the box plot\n",
    "        sns.boxplot(y=\"Brake Power\", \n",
    "                    x = \"Algorithm\",\n",
    "                    hue = 'Algorithm',\n",
    "                    order=unique_values,\n",
    "#                         palette=\"hls\", # Colors\n",
    "                    data=df_temp, ax=ax[i])  \n",
    "\n",
    "        # Set the title for the subplot\n",
    "        ax[i].set_title(f'VS = {vs}',   fontsize=font_size)\n",
    "        ax[i].tick_params(axis='both', labelsize=font_size) \n",
    "        # Set labels for x and y axes\n",
    "        ax[i].set_xlabel('Algorithm',   fontsize=font_size)\n",
    "        ax[i].set_ylabel('Brake Power', fontsize=font_size)\n",
    "\n",
    "        # ylim\n",
    "        minmax = df_temp['Brake Power'].agg(['min', 'max']).to_list()\n",
    "        ax[i].set_ylim(minmax[0]*0.999, minmax[1]*1.001) \n",
    "        \n",
    "        if only_put_1_legend:\n",
    "            # only put 1 legend\n",
    "            if i == 1:\n",
    "        #         ax[i].legend(loc='upper right')\n",
    "                legend = ax[i].legend(loc='upper left', bbox_to_anchor=(1, 1))\n",
    "            else:\n",
    "                ax[i].legend([],[], frameon=False)\n",
    "\n",
    "    # Adjust spacing between subplots\n",
    "    plt.tight_layout()\n",
    "    \n",
    "    # save\n",
    "    if save:\n",
    "        name_f  = 'boxplot'\n",
    "        # speed\n",
    "        name_f += '_' + \"and\".join([str(v) for v in vs_values])\n",
    "        name_f  = name_f.replace('.','_')\n",
    "        # file type\n",
    "        name_f += '.pdf'\n",
    "        plt.savefig(name_f, bbox_inches='tight')\n",
    "        print('saved', name_f)\n",
    "\n",
    "    # Show the plot\n",
    "    plt.show()"
   ]
  },
  {
   "cell_type": "code",
   "execution_count": 74,
   "metadata": {},
   "outputs": [],
   "source": [
    "save=True"
   ]
  },
  {
   "cell_type": "code",
   "execution_count": 75,
   "metadata": {},
   "outputs": [
    {
     "name": "stdout",
     "output_type": "stream",
     "text": [
      "saved boxplot_7_0and7_5.pdf\n"
     ]
    },
    {
     "data": {
      "image/png": "[encoded data removed]",
      "text/plain": [
       "<Figure size 1100x700 with 2 Axes>"
      ]
     },
     "metadata": {},
     "output_type": "display_data"
    }
   ],
   "source": [
    "multiple_boxplot([7.0, 7.5], save=save)"
   ]
  },
  {
   "cell_type": "code",
   "execution_count": 76,
   "metadata": {},
   "outputs": [
    {
     "name": "stdout",
     "output_type": "stream",
     "text": [
      "saved boxplot_8_0and8_5.pdf\n"
     ]
    },
    {
     "data": {
      "image/png": "[encoded data removed]",
      "text/plain": [
       "<Figure size 1100x700 with 2 Axes>"
      ]
     },
     "metadata": {},
     "output_type": "display_data"
    }
   ],
   "source": [
    "multiple_boxplot([8.0, 8.5], save=save)"
   ]
  },
  {
   "cell_type": "code",
   "execution_count": null,
   "metadata": {},
   "outputs": [],
   "source": []
  }
 ],
 "metadata": {
  "kernelspec": {
   "display_name": "Python 3 (ipykernel)",
   "language": "python",
   "name": "python3"
  },
  "language_info": {
   "codemirror_mode": {
    "name": "ipython",
    "version": 3
   },
   "file_extension": ".py",
   "mimetype": "text/x-python",
   "name": "python",
   "nbconvert_exporter": "python",
   "pygments_lexer": "ipython3",
   "version": "3.11.2"
  }
 },
 "nbformat": 4,
 "nbformat_minor": 2
}
