{
 "cells": [
  {
   "cell_type": "code",
   "execution_count": 64,
   "metadata": {},
   "outputs": [],
   "source": [
    "import numpy as np\n",
    "import pandas as pd\n",
    "import csv\n",
    "\n",
    "from os import listdir\n",
    "\n",
    "import matplotlib.pyplot as plt\n",
    "from scipy.stats import shapiro\n",
    "from scipy.stats import ttest_ind\n",
    "from scipy.stats import mannwhitneyu\n",
    "from statsmodels.stats.multitest import multipletests"
   ]
  },
  {
   "cell_type": "code",
   "execution_count": 65,
   "metadata": {},
   "outputs": [],
   "source": [
    "dir_run = '../results'\n",
    "\n",
    "NSEEDS = 10\n"
   ]
  },
  {
   "cell_type": "code",
   "execution_count": 66,
   "metadata": {},
   "outputs": [],
   "source": [
    "def get_best_result_df(best_result_file_path):\n",
    "    history = []\n",
    "    with open(best_result_file_path, 'r', newline='') as file:\n",
    "        reader = csv.reader(file)\n",
    "        counter = 0\n",
    "        for row in reader:\n",
    "            if counter == 1:\n",
    "                params = row\n",
    "            elif counter == 3:\n",
    "                history = row\n",
    "            elif counter == 5:\n",
    "                configs = row\n",
    "            counter += 1\n",
    "    # D, AEdAO, PdD, Z, fitness\n",
    "    D       = float(params[0])\n",
    "    AEdAO   = float(params[1])\n",
    "    PdD     = float(params[2])\n",
    "    Z       = int(params[3]) if len(params[3]) == 1 else int(float(params[3]))\n",
    "    fitness = float(params[6])\n",
    "    # history    \n",
    "    if len(history) > 0:\n",
    "        history = [float(h) for h in history]\n",
    "    # configs\n",
    "    solver_name = configs[0]\n",
    "    vs        = float(configs[1])\n",
    "    seed        = int(configs[4])\n",
    "    \n",
    "    if (solver_name == 'openaies' or solver_name == 'cmaes'):\n",
    "        fitness = -fitness\n",
    "    \n",
    "    # create new entry in df\n",
    "    new_data = {'D': D, \n",
    "                'AEdAO': AEdAO, \n",
    "                'PdD': PdD,\n",
    "                'Z': int(Z),\n",
    "                'Brake Power': fitness,\n",
    "                'Seed': seed,\n",
    "                'Algorithm': solver_name,\n",
    "                'VS': vs}\n",
    "    return new_data"
   ]
  },
  {
   "cell_type": "markdown",
   "metadata": {},
   "source": [
    "## Get best by seed"
   ]
  },
  {
   "cell_type": "code",
   "execution_count": 67,
   "metadata": {},
   "outputs": [],
   "source": [
    "data = {'D': [], 'AEdAO': [], 'PdD': [], 'Z': [], 'Brake Power': [], 'Seed': [], 'Algorithm': [], 'VS': []}\n",
    "df_results = pd.DataFrame(data)\n",
    "\n",
    "for algorithm in listdir(dir_run):\n",
    "    algorithm_folder = dir_run + '/' + algorithm\n",
    "\n",
    "    for speed in listdir(algorithm_folder):  # Loop sobre as velocidades\n",
    "        speed_folder = algorithm_folder + '/' + speed\n",
    "        \n",
    "        for seed in range(NSEEDS):\n",
    "            seed_folder = speed_folder + '/' + str(seed)\n",
    "                \n",
    "            best_result_file = [filename for filename in listdir(seed_folder) if 'best_results' in filename]\n",
    "            \n",
    "            if len(best_result_file) > 0:\n",
    "                best_result_file = best_result_file[0]\n",
    "                best_result_file = seed_folder+'/'+best_result_file\n",
    "                new_data = get_best_result_df(best_result_file)\n",
    "                df_results = pd.concat([df_results, pd.DataFrame(new_data, index=[0])], ignore_index=True)\n",
    " \n",
    "df_results = df_results.astype({\"Z\": int, \"Seed\": int})   \n",
    "df_results = df_results.drop('Seed', axis=1)"
   ]
  },
  {
   "cell_type": "code",
   "execution_count": null,
   "metadata": {},
   "outputs": [],
   "source": [
    "df_results"
   ]
  },
  {
   "cell_type": "code",
   "execution_count": 68,
   "metadata": {},
   "outputs": [],
   "source": [
    "df_cmaes = df_results.loc[df_results['Algorithm'] == 'cmaes']\n",
    "df_openaies = df_results.loc[df_results['Algorithm'] == 'openaies']\n",
    "df_de = df_results.loc[df_results['Algorithm'] == 'DE']\n",
    "df_de_mod = df_results.loc[df_results['Algorithm'] == 'DE_mod']\n",
    "\n",
    "df_cmaes = df_cmaes.drop('Algorithm', axis=1)\n",
    "df_openaies = df_openaies.drop('Algorithm', axis=1)\n",
    "df_de = df_de.drop('Algorithm', axis=1)\n",
    "df_de_mod = df_de_mod.drop('Algorithm', axis=1)"
   ]
  },
  {
   "cell_type": "code",
   "execution_count": null,
   "metadata": {},
   "outputs": [],
   "source": [
    "df_de_mod"
   ]
  },
  {
   "cell_type": "code",
   "execution_count": 69,
   "metadata": {},
   "outputs": [],
   "source": [
    "# Generate replicaed DE dataset\n",
    "# Replicated DE has only 2 because it only run for 7 and 7.5 of V_S\n",
    "\n",
    "df_de_7   = df_de.loc[df_de['VS'] == 7.0]\n",
    "df_de_7_5 = df_de.loc[df_de['VS'] == 7.5]\n",
    "\n",
    "df_de_7   = df_de_7.drop('VS', axis=1)\n",
    "df_de_7_5 = df_de_7_5.drop('VS', axis=1)"
   ]
  },
  {
   "cell_type": "code",
   "execution_count": 70,
   "metadata": {},
   "outputs": [],
   "source": [
    "# Generate modified DE dataset\n",
    "\n",
    "df_de_mod_7   = df_de_mod.loc[df_de_mod['VS'] == 7.0]\n",
    "df_de_mod_7_5 = df_de_mod.loc[df_de_mod['VS'] == 7.5]\n",
    "df_de_mod_8   = df_de_mod.loc[df_de_mod['VS'] == 8.0]\n",
    "df_de_mod_8_5 = df_de_mod.loc[df_de_mod['VS'] == 8.5]\n",
    "\n",
    "df_de_mod_7   = df_de_mod_7.drop('VS', axis=1)\n",
    "df_de_mod_7_5 = df_de_mod_7_5.drop('VS', axis=1)\n",
    "df_de_mod_8   = df_de_mod_8.drop('VS', axis=1)\n",
    "df_de_mod_8_5 = df_de_mod_8_5.drop('VS', axis=1)"
   ]
  },
  {
   "cell_type": "code",
   "execution_count": 71,
   "metadata": {},
   "outputs": [],
   "source": [
    "# Generate cmaes dataset\n",
    "\n",
    "df_cmaes_7      = df_cmaes.loc[df_cmaes['VS'] == 7.0]\n",
    "df_cmaes_7_5    = df_cmaes.loc[df_cmaes['VS'] == 7.5]\n",
    "df_cmaes_8      = df_cmaes.loc[df_cmaes['VS'] == 8.0]\n",
    "df_cmaes_8_5    = df_cmaes.loc[df_cmaes['VS'] == 8.5]\n",
    "\n",
    "df_cmaes_7      = df_cmaes_7.drop('VS', axis=1)\n",
    "df_cmaes_7_5    = df_cmaes_7_5.drop('VS', axis=1)\n",
    "df_cmaes_8      = df_cmaes_8.drop('VS', axis=1)\n",
    "df_cmaes_8_5    = df_cmaes_8_5.drop('VS', axis=1)"
   ]
  },
  {
   "cell_type": "code",
   "execution_count": 72,
   "metadata": {},
   "outputs": [],
   "source": [
    "# Generate openaies dataset\n",
    "\n",
    "df_openaies_7   = df_openaies.loc[df_openaies['VS'] == 7.0]\n",
    "df_openaies_7_5 = df_openaies.loc[df_openaies['VS'] == 7.5]\n",
    "df_openaies_8   = df_openaies.loc[df_openaies['VS'] == 8.0]\n",
    "df_openaies_8_5 = df_openaies.loc[df_openaies['VS'] == 8.5]\n",
    "\n",
    "df_openaies_7   = df_openaies_7.drop('VS', axis=1)\n",
    "df_openaies_7_5 = df_openaies_7_5.drop('VS', axis=1)\n",
    "df_openaies_8   = df_openaies_8.drop('VS', axis=1)\n",
    "df_openaies_8_5 = df_openaies_8_5.drop('VS', axis=1)"
   ]
  },
  {
   "cell_type": "markdown",
   "metadata": {},
   "source": [
    "## Statistics"
   ]
  },
  {
   "cell_type": "code",
   "execution_count": 10,
   "metadata": {},
   "outputs": [
    {
     "data": {
      "text/html": [
       "<div>\n",
       "<style scoped>\n",
       "    .dataframe tbody tr th:only-of-type {\n",
       "        vertical-align: middle;\n",
       "    }\n",
       "\n",
       "    .dataframe tbody tr th {\n",
       "        vertical-align: top;\n",
       "    }\n",
       "\n",
       "    .dataframe thead th {\n",
       "        text-align: right;\n",
       "    }\n",
       "</style>\n",
       "<table border=\"1\" class=\"dataframe\">\n",
       "  <thead>\n",
       "    <tr style=\"text-align: right;\">\n",
       "      <th></th>\n",
       "      <th>D</th>\n",
       "      <th>AEdAO</th>\n",
       "      <th>PdD</th>\n",
       "      <th>Z</th>\n",
       "      <th>Brake Power</th>\n",
       "    </tr>\n",
       "  </thead>\n",
       "  <tbody>\n",
       "    <tr>\n",
       "      <th>count</th>\n",
       "      <td>10.0</td>\n",
       "      <td>10.000000</td>\n",
       "      <td>10.000000</td>\n",
       "      <td>10.0</td>\n",
       "      <td>10.000000</td>\n",
       "    </tr>\n",
       "    <tr>\n",
       "      <th>mean</th>\n",
       "      <td>0.8</td>\n",
       "      <td>0.661627</td>\n",
       "      <td>0.669448</td>\n",
       "      <td>5.0</td>\n",
       "      <td>81.551321</td>\n",
       "    </tr>\n",
       "    <tr>\n",
       "      <th>std</th>\n",
       "      <td>0.0</td>\n",
       "      <td>0.028011</td>\n",
       "      <td>0.018635</td>\n",
       "      <td>0.0</td>\n",
       "      <td>0.125404</td>\n",
       "    </tr>\n",
       "    <tr>\n",
       "      <th>min</th>\n",
       "      <td>0.8</td>\n",
       "      <td>0.625847</td>\n",
       "      <td>0.640228</td>\n",
       "      <td>5.0</td>\n",
       "      <td>81.432608</td>\n",
       "    </tr>\n",
       "    <tr>\n",
       "      <th>25%</th>\n",
       "      <td>0.8</td>\n",
       "      <td>0.647030</td>\n",
       "      <td>0.658366</td>\n",
       "      <td>5.0</td>\n",
       "      <td>81.477026</td>\n",
       "    </tr>\n",
       "    <tr>\n",
       "      <th>50%</th>\n",
       "      <td>0.8</td>\n",
       "      <td>0.657047</td>\n",
       "      <td>0.664718</td>\n",
       "      <td>5.0</td>\n",
       "      <td>81.528028</td>\n",
       "    </tr>\n",
       "    <tr>\n",
       "      <th>75%</th>\n",
       "      <td>0.8</td>\n",
       "      <td>0.668007</td>\n",
       "      <td>0.678906</td>\n",
       "      <td>5.0</td>\n",
       "      <td>81.575100</td>\n",
       "    </tr>\n",
       "    <tr>\n",
       "      <th>max</th>\n",
       "      <td>0.8</td>\n",
       "      <td>0.730914</td>\n",
       "      <td>0.701546</td>\n",
       "      <td>5.0</td>\n",
       "      <td>81.865217</td>\n",
       "    </tr>\n",
       "  </tbody>\n",
       "</table>\n",
       "</div>"
      ],
      "text/plain": [
       "          D      AEdAO        PdD     Z  Brake Power\n",
       "count  10.0  10.000000  10.000000  10.0    10.000000\n",
       "mean    0.8   0.661627   0.669448   5.0    81.551321\n",
       "std     0.0   0.028011   0.018635   0.0     0.125404\n",
       "min     0.8   0.625847   0.640228   5.0    81.432608\n",
       "25%     0.8   0.647030   0.658366   5.0    81.477026\n",
       "50%     0.8   0.657047   0.664718   5.0    81.528028\n",
       "75%     0.8   0.668007   0.678906   5.0    81.575100\n",
       "max     0.8   0.730914   0.701546   5.0    81.865217"
      ]
     },
     "execution_count": 10,
     "metadata": {},
     "output_type": "execute_result"
    }
   ],
   "source": [
    "df_de_7.describe()"
   ]
  },
  {
   "cell_type": "markdown",
   "metadata": {},
   "source": [
    "## Shapiro-Wilk Test"
   ]
  },
  {
   "cell_type": "code",
   "execution_count": 73,
   "metadata": {},
   "outputs": [],
   "source": [
    "def shapiro_wilk(df):\n",
    "    try:\n",
    "        stat, p_value = shapiro(df['Brake Power'])\n",
    "        return {'Estatística de Shapiro-Wilk': stat, 'Valor p': p_value}\n",
    "    except Exception as e:\n",
    "        print('Erro ' + str(e))\n",
    "        return {'Erro': str(e)}"
   ]
  },
  {
   "cell_type": "markdown",
   "metadata": {},
   "source": [
    "## Statistical Tests\n",
    "\n",
    "Hypothesis H0 (Null Hypothesis): Brake Power obtained by Algorithm 1 does not have statistical difference compared to that obtained by Algorithm 2.\n",
    "\n",
    "We will try to prove this with 95% confidence.\n",
    "\n",
    "In the hypothesis test (which is either the t-test or Mann-Whitney depending on the distribution format), it will return a value. If the value is less than 5% (p=0.05), they are different; otherwise, there is no way to prove the difference."
   ]
  },
  {
   "cell_type": "code",
   "execution_count": 74,
   "metadata": {},
   "outputs": [],
   "source": [
    "def run_statistical_test(df_a, df_b, alpha=0.05):\n",
    "    \n",
    "    df_a_result = shapiro_wilk(df_a)\n",
    "    df_b_result = shapiro_wilk(df_b)\n",
    "    \n",
    "    # If p-values less than 0.05 (Significance Level) use Mann-Whitney U, otherwise, use T-Test\n",
    "    if df_a_result['Valor p'] > alpha and df_b_result['Valor p'] > alpha:\n",
    "        # Use T-Test\n",
    "        t_statistic, p_value = ttest_ind(df_a['Brake Power'], df_b['Brake Power'])\n",
    "        return {'Algorithm':'t-test', 'Statistic':t_statistic, 'p-value':p_value}\n",
    "    else:\n",
    "        # Use Mann-Whitney U\n",
    "        statistic, p_value = mannwhitneyu(df_a['Brake Power'], df_b['Brake Power'], alternative='two-sided')\n",
    "        return {'Algorithm':'mann-whitney-u', 'Statistic':statistic, 'p-value':p_value}\n",
    "        \n"
   ]
  },
  {
   "cell_type": "markdown",
   "metadata": {},
   "source": [
    "#### Combinations of tests\n",
    "\n",
    "For V_S [7 and 7.5], we need to compare the four algorithms:\n",
    "\n",
    "DE      - DE_MOD \\\n",
    "DE      - CMA-ES \\\n",
    "DE      - OpenAI-ES \\\n",
    "DE_MOD  - CMA-ES \\\n",
    "DE_MOD  - OpenAI-ES \\\n",
    "CMA-ES  - OpenAI-ES \n",
    "\n",
    "For V_S [8 and 8.5], replicated DE didn't run. Because of that we need to run less tests:\n",
    "\n",
    "DE_MOD  - CMA-ES \\\n",
    "DE_MOD  - OpenAI-ES \\\n",
    "CMA-ES  - OpenAI-ES "
   ]
  },
  {
   "cell_type": "code",
   "execution_count": 75,
   "metadata": {},
   "outputs": [],
   "source": [
    "# V_S = 7\n",
    "de_de_mod_7     = run_statistical_test(df_de_7, df_de_mod_7)\n",
    "de_cma_7        = run_statistical_test(df_de_7, df_cmaes_7)\n",
    "de_openai_7     = run_statistical_test(df_de_7, df_openaies_7)\n",
    "de_mod_cma_7    = run_statistical_test(df_de_mod_7, df_cmaes_7)\n",
    "de_mod_openai_7 = run_statistical_test(df_de_mod_7, df_openaies_7)\n",
    "cma_openai_7    = run_statistical_test(df_cmaes_7, df_openaies_7)"
   ]
  },
  {
   "cell_type": "code",
   "execution_count": 77,
   "metadata": {},
   "outputs": [
    {
     "name": "stdout",
     "output_type": "stream",
     "text": [
      "V_S = 7.0 \t\t | ALGORITHM \t\t | STATISTIC \t | P-VALUE\n",
      "---------------------------------------------------------------------------------------\n",
      "DE - DE MOD \t\t | mann-whitney-u \t | 78.0 \t | 0.03763531378731424 \n",
      "DE - CMA-ES \t\t | mann-whitney-u \t | 82.0 \t | 0.017257456083119765 \n",
      "DE - OPENAI-ES \t\t | mann-whitney-u \t | 30.0 \t | 0.14046504815835495 \n",
      "DE MOD - CMA-ES \t | mann-whitney-u \t | 57.0 \t | 0.6231762238821174 \n",
      "DE MOD - OPENAI-ES \t | mann-whitney-u \t | 15.0 \t | 0.009108496398030963 \n",
      "CMA-ES - OPENAI-ES \t | mann-whitney-u \t | 12.0 \t | 0.004586392080253494 \n"
     ]
    }
   ],
   "source": [
    "print('V_S = 7.0 \\t\\t | ALGORITHM \\t\\t | STATISTIC \\t | P-VALUE')\n",
    "print('---------------------------------------------------------------------------------------')\n",
    "print(f\"DE - DE MOD \\t\\t | {de_de_mod_7['Algorithm']} \\t | {de_de_mod_7['Statistic']} \\t | {de_de_mod_7['p-value']} \")\n",
    "print(f\"DE - CMA-ES \\t\\t | {de_cma_7['Algorithm']} \\t | {de_cma_7['Statistic']} \\t | {de_cma_7['p-value']} \")\n",
    "print(f\"DE - OPENAI-ES \\t\\t | {de_openai_7['Algorithm']} \\t | {de_openai_7['Statistic']} \\t | {de_openai_7['p-value']} \")\n",
    "print(f\"DE MOD - CMA-ES \\t | {de_mod_cma_7['Algorithm']} \\t | {de_mod_cma_7['Statistic']} \\t | {de_mod_cma_7['p-value']} \")\n",
    "print(f\"DE MOD - OPENAI-ES \\t | {de_mod_openai_7['Algorithm']} \\t | {de_mod_openai_7['Statistic']} \\t | {de_mod_openai_7['p-value']} \")\n",
    "print(f\"CMA-ES - OPENAI-ES \\t | {cma_openai_7['Algorithm']} \\t | {cma_openai_7['Statistic']} \\t | {cma_openai_7['p-value']} \")\n"
   ]
  },
  {
   "cell_type": "code",
   "execution_count": 78,
   "metadata": {},
   "outputs": [],
   "source": [
    "# V_S = 7_5\n",
    "de_de_mod_7_5       = run_statistical_test(df_de_7_5, df_de_mod_7_5)\n",
    "de_cma_7_5          = run_statistical_test(df_de_7_5, df_cmaes_7_5)\n",
    "de_openai_7_5       = run_statistical_test(df_de_7_5, df_openaies_7_5)\n",
    "de_mod_cma_7_5      = run_statistical_test(df_de_mod_7_5, df_cmaes_7_5)\n",
    "de_mod_openai_7_5   = run_statistical_test(df_de_mod_7_5, df_openaies_7_5)\n",
    "cma_openai_7_5      = run_statistical_test(df_cmaes_7_5, df_openaies_7_5)"
   ]
  },
  {
   "cell_type": "code",
   "execution_count": 80,
   "metadata": {},
   "outputs": [
    {
     "name": "stdout",
     "output_type": "stream",
     "text": [
      "V_S = 7.5 \t\t | ALGORITHM \t\t | STATISTIC \t | P-VALUE\n",
      "---------------------------------------------------------------------------------------\n",
      "DE - DE MOD \t\t | mann-whitney-u \t | 93.0 \t | 0.0013149446697132139 \n",
      "DE - CMA-ES \t\t | mann-whitney-u \t | 95.0 \t | 0.0007685389131627665 \n",
      "DE - OPENAI-ES \t\t | mann-whitney-u \t | 28.0 \t | 0.10410988966022681 \n",
      "DE MOD - CMA-ES \t | mann-whitney-u \t | 48.0 \t | 0.9097218891455553 \n",
      "DE MOD - OPENAI-ES \t | mann-whitney-u \t | 1.0 \t\t | 0.00024612812790522973 \n",
      "CMA-ES - OPENAI-ES \t | mann-whitney-u \t | 0.0 \t\t | 0.00018267179110955002 \n"
     ]
    }
   ],
   "source": [
    "print('V_S = 7.5 \\t\\t | ALGORITHM \\t\\t | STATISTIC \\t | P-VALUE')\n",
    "print('---------------------------------------------------------------------------------------')\n",
    "print(f\"DE - DE MOD \\t\\t | {de_de_mod_7_5['Algorithm']} \\t | {de_de_mod_7_5['Statistic']} \\t | {de_de_mod_7_5['p-value']} \")\n",
    "print(f\"DE - CMA-ES \\t\\t | {de_cma_7_5['Algorithm']} \\t | {de_cma_7_5['Statistic']} \\t | {de_cma_7_5['p-value']} \")\n",
    "print(f\"DE - OPENAI-ES \\t\\t | {de_openai_7_5['Algorithm']} \\t | {de_openai_7_5['Statistic']} \\t | {de_openai_7_5['p-value']} \")\n",
    "print(f\"DE MOD - CMA-ES \\t | {de_mod_cma_7_5['Algorithm']} \\t | {de_mod_cma_7_5['Statistic']} \\t | {de_mod_cma_7_5['p-value']} \")\n",
    "print(f\"DE MOD - OPENAI-ES \\t | {de_mod_openai_7_5['Algorithm']} \\t | {de_mod_openai_7_5['Statistic']} \\t\\t | {de_mod_openai_7_5['p-value']} \")\n",
    "print(f\"CMA-ES - OPENAI-ES \\t | {cma_openai_7_5['Algorithm']} \\t | {cma_openai_7_5['Statistic']} \\t\\t | {cma_openai_7_5['p-value']} \")"
   ]
  },
  {
   "cell_type": "code",
   "execution_count": 81,
   "metadata": {},
   "outputs": [],
   "source": [
    "# V_S = 8\n",
    "de_mod_cma_8      = run_statistical_test(df_de_mod_8, df_cmaes_8)\n",
    "de_mod_openai_8   = run_statistical_test(df_de_mod_8, df_openaies_8)\n",
    "cma_openai_8      = run_statistical_test(df_cmaes_8, df_openaies_8)"
   ]
  },
  {
   "cell_type": "code",
   "execution_count": 83,
   "metadata": {},
   "outputs": [
    {
     "name": "stdout",
     "output_type": "stream",
     "text": [
      "V_S = 8.0 \t\t | ALGORITHM \t\t | STATISTIC \t\t | P-VALUE\n",
      "------------------------------------------------------------------------------------------------\n",
      "DE MOD - CMA-ES \t | t-test \t\t | 3.1860557635531324 \t | 0.0051169133656497655 \n",
      "DE MOD - OPENAI-ES \t | mann-whitney-u \t | 35.0 \t\t | 0.27303633975118835 \n",
      "CMA-ES - OPENAI-ES \t | mann-whitney-u \t | 2.0 \t\t\t | 0.00032983852077799353 \n"
     ]
    }
   ],
   "source": [
    "print('V_S = 8.0 \\t\\t | ALGORITHM \\t\\t | STATISTIC \\t\\t | P-VALUE')\n",
    "print('------------------------------------------------------------------------------------------------')\n",
    "print(f\"DE MOD - CMA-ES \\t | {de_mod_cma_8['Algorithm']} \\t\\t | {de_mod_cma_8['Statistic']} \\t | {de_mod_cma_8['p-value']} \")\n",
    "print(f\"DE MOD - OPENAI-ES \\t | {de_mod_openai_8['Algorithm']} \\t | {de_mod_openai_8['Statistic']} \\t\\t | {de_mod_openai_8['p-value']} \")\n",
    "print(f\"CMA-ES - OPENAI-ES \\t | {cma_openai_8['Algorithm']} \\t | {cma_openai_8['Statistic']} \\t\\t\\t | {cma_openai_8['p-value']} \")\n"
   ]
  },
  {
   "cell_type": "code",
   "execution_count": 88,
   "metadata": {},
   "outputs": [],
   "source": [
    "# V_S = 8.5\n",
    "de_mod_cma_8_5      = run_statistical_test(df_de_mod_8_5, df_cmaes_8_5)\n",
    "de_mod_openai_8_5   = run_statistical_test(df_de_mod_8_5, df_openaies_8_5)\n",
    "cma_openai_8_5      = run_statistical_test(df_cmaes_8_5, df_openaies_8_5)"
   ]
  },
  {
   "cell_type": "code",
   "execution_count": 89,
   "metadata": {},
   "outputs": [
    {
     "name": "stdout",
     "output_type": "stream",
     "text": [
      "V_S = 8.5 \t\t | ALGORITHM \t\t | STATISTIC \t | P-VALUE\n",
      "---------------------------------------------------------------------------------------\n",
      "DE MOD - CMA-ES \t | mann-whitney-u \t | 87.0 \t | 0.00579535854433471 \n",
      "DE MOD - OPENAI-ES \t | mann-whitney-u \t | 35.0 \t | 0.27303633975118835 \n",
      "CMA-ES - OPENAI-ES \t | mann-whitney-u \t | 14.0 \t | 0.0072845570094796615 \n"
     ]
    }
   ],
   "source": [
    "print('V_S = 8.5 \\t\\t | ALGORITHM \\t\\t | STATISTIC \\t | P-VALUE')\n",
    "print('---------------------------------------------------------------------------------------')\n",
    "print(f\"DE MOD - CMA-ES \\t | {de_mod_cma_8_5['Algorithm']} \\t | {de_mod_cma_8_5['Statistic']} \\t | {de_mod_cma_8_5['p-value']} \")\n",
    "print(f\"DE MOD - OPENAI-ES \\t | {de_mod_openai_8_5['Algorithm']} \\t | {de_mod_openai_8_5['Statistic']} \\t | {de_mod_openai_8_5['p-value']} \")\n",
    "print(f\"CMA-ES - OPENAI-ES \\t | {cma_openai_8_5['Algorithm']} \\t | {cma_openai_8_5['Statistic']} \\t | {cma_openai_8_5['p-value']} \")"
   ]
  },
  {
   "cell_type": "markdown",
   "metadata": {},
   "source": [
    "### Bonferroni correction"
   ]
  },
  {
   "cell_type": "code",
   "execution_count": 90,
   "metadata": {},
   "outputs": [],
   "source": [
    "def bonferroni_alfa_correction(n_tests, alpha=0.05):\n",
    "    \n",
    "    return alpha / n_tests"
   ]
  },
  {
   "cell_type": "code",
   "execution_count": 91,
   "metadata": {},
   "outputs": [],
   "source": [
    "alfa_3_tests = bonferroni_alfa_correction(3)\n",
    "alfa_6_tests = bonferroni_alfa_correction(6)"
   ]
  },
  {
   "cell_type": "code",
   "execution_count": 92,
   "metadata": {},
   "outputs": [],
   "source": [
    "# V_S = 7\n",
    "\n",
    "de_de_mod_7_corrected     = (de_de_mod_7['p-value'] < alfa_6_tests)\n",
    "de_cma_7_corrected        = (de_cma_7['p-value'] < alfa_6_tests)\n",
    "de_openai_7_corrected     = (de_openai_7['p-value'] < alfa_6_tests)\n",
    "de_mod_cma_7_corrected    = (de_mod_cma_7['p-value'] < alfa_6_tests)\n",
    "de_mod_openai_7_corrected = (de_mod_openai_7['p-value'] < alfa_6_tests)\n",
    "cma_openai_7_corrected    = (cma_openai_7['p-value'] < alfa_6_tests)\n"
   ]
  },
  {
   "cell_type": "code",
   "execution_count": 93,
   "metadata": {},
   "outputs": [
    {
     "name": "stdout",
     "output_type": "stream",
     "text": [
      "H0: Brake Power obtained by Algorithm 1 have statistical difference compared to that obtained by Algorithm 2\n",
      "\n",
      "V_S = 7.0 \t\t | BONFERRONI alpha = 0.008\n",
      "----------------------------------------------\n",
      "DE - DE MOD \t\t | False\n",
      "DE - CMA-ES \t\t | False\n",
      "DE - OPENAI-ES \t\t | False\n",
      "DE MOD - CMA-ES \t | False\n",
      "DE MOD - OPENAI-ES \t | False\n",
      "CMA-ES - OPENAI-ES \t | True\n"
     ]
    }
   ],
   "source": [
    "print(\"H0: Brake Power obtained by Algorithm 1 have statistical difference compared to that obtained by Algorithm 2\")\n",
    "print()\n",
    "print(f'V_S = 7.0 \\t\\t | BONFERRONI alpha = {alfa_6_tests:.3f}')\n",
    "print('----------------------------------------------')\n",
    "print(f\"DE - DE MOD \\t\\t | {de_de_mod_7_corrected}\")\n",
    "print(f\"DE - CMA-ES \\t\\t | {de_cma_7_corrected}\")\n",
    "print(f\"DE - OPENAI-ES \\t\\t | {de_openai_7_corrected}\")\n",
    "print(f\"DE MOD - CMA-ES \\t | {de_mod_cma_7_corrected}\")\n",
    "print(f\"DE MOD - OPENAI-ES \\t | {de_mod_openai_7_corrected}\")\n",
    "print(f\"CMA-ES - OPENAI-ES \\t | {cma_openai_7_corrected}\")"
   ]
  },
  {
   "cell_type": "code",
   "execution_count": 94,
   "metadata": {},
   "outputs": [],
   "source": [
    "# V_S = 7.5\n",
    "\n",
    "de_de_mod_7_5_corrected     = (de_de_mod_7_5['p-value'] < alfa_6_tests)\n",
    "de_cma_7_5_corrected        = (de_cma_7_5['p-value'] < alfa_6_tests)\n",
    "de_openai_7_5_corrected     = (de_openai_7_5['p-value'] < alfa_6_tests)\n",
    "de_mod_cma_7_5_corrected    = (de_mod_cma_7_5['p-value'] < alfa_6_tests)\n",
    "de_mod_openai_7_5_corrected = (de_mod_openai_7_5['p-value'] < alfa_6_tests)\n",
    "cma_openai_7_5_corrected    = (cma_openai_7_5['p-value'] < alfa_6_tests)"
   ]
  },
  {
   "cell_type": "code",
   "execution_count": 95,
   "metadata": {},
   "outputs": [
    {
     "name": "stdout",
     "output_type": "stream",
     "text": [
      "H0: Brake Power obtained by Algorithm 1 have statistical difference compared to that obtained by Algorithm 2\n",
      "\n",
      "V_S = 7.5 \t\t | BONFERRONI alpha = 0.008\n",
      "----------------------------------------------\n",
      "DE - DE MOD \t\t | True\n",
      "DE - CMA-ES \t\t | True\n",
      "DE - OPENAI-ES \t\t | False\n",
      "DE MOD - CMA-ES \t | False\n",
      "DE MOD - OPENAI-ES \t | True\n",
      "CMA-ES - OPENAI-ES \t | True\n"
     ]
    }
   ],
   "source": [
    "print(\"H0: Brake Power obtained by Algorithm 1 have statistical difference compared to that obtained by Algorithm 2\")\n",
    "print()\n",
    "print(f'V_S = 7.5 \\t\\t | BONFERRONI alpha = {alfa_6_tests:.3f}')\n",
    "print('----------------------------------------------')\n",
    "print(f\"DE - DE MOD \\t\\t | {de_de_mod_7_5_corrected}\")\n",
    "print(f\"DE - CMA-ES \\t\\t | {de_cma_7_5_corrected}\")\n",
    "print(f\"DE - OPENAI-ES \\t\\t | {de_openai_7_5_corrected}\")\n",
    "print(f\"DE MOD - CMA-ES \\t | {de_mod_cma_7_5_corrected}\")\n",
    "print(f\"DE MOD - OPENAI-ES \\t | {de_mod_openai_7_5_corrected}\")\n",
    "print(f\"CMA-ES - OPENAI-ES \\t | {cma_openai_7_5_corrected}\")"
   ]
  },
  {
   "cell_type": "code",
   "execution_count": 96,
   "metadata": {},
   "outputs": [],
   "source": [
    "# V_S = 8\n",
    "\n",
    "de_mod_cma_8_corrected    = (de_mod_cma_8['p-value'] < alfa_3_tests)\n",
    "de_mod_openai_8_corrected = (de_mod_openai_8['p-value'] < alfa_3_tests)\n",
    "cma_openai_8_corrected    = (cma_openai_8['p-value'] < alfa_3_tests)"
   ]
  },
  {
   "cell_type": "code",
   "execution_count": 97,
   "metadata": {},
   "outputs": [
    {
     "name": "stdout",
     "output_type": "stream",
     "text": [
      "H0: Brake Power obtained by Algorithm 1 have statistical difference compared to that obtained by Algorithm 2\n",
      "\n",
      "V_S = 8.0 \t\t | BONFERRONI alpha = 0.017\n",
      "---------------------------------------------------\n",
      "DE MOD - CMA-ES \t | True\n",
      "DE MOD - OPENAI-ES \t | False\n",
      "CMA-ES - OPENAI-ES \t | True\n"
     ]
    }
   ],
   "source": [
    "print(\"H0: Brake Power obtained by Algorithm 1 have statistical difference compared to that obtained by Algorithm 2\")\n",
    "print()\n",
    "print(f'V_S = 8.0 \\t\\t | BONFERRONI alpha = {alfa_3_tests:.3f}')\n",
    "print('---------------------------------------------------')\n",
    "print(f\"DE MOD - CMA-ES \\t | {de_mod_cma_8_corrected}\")\n",
    "print(f\"DE MOD - OPENAI-ES \\t | {de_mod_openai_8_corrected}\")\n",
    "print(f\"CMA-ES - OPENAI-ES \\t | {cma_openai_8_corrected}\")"
   ]
  },
  {
   "cell_type": "code",
   "execution_count": 98,
   "metadata": {},
   "outputs": [],
   "source": [
    "# V_S = 8.5\n",
    "\n",
    "de_mod_cma_8_5_corrected    = (de_mod_cma_8_5['p-value'] < alfa_3_tests)\n",
    "de_mod_openai_8_5_corrected = (de_mod_openai_8_5['p-value'] < alfa_3_tests)\n",
    "cma_openai_8_5_corrected    = (cma_openai_8_5['p-value'] < alfa_3_tests)"
   ]
  },
  {
   "cell_type": "code",
   "execution_count": 99,
   "metadata": {},
   "outputs": [
    {
     "name": "stdout",
     "output_type": "stream",
     "text": [
      "H0: Brake Power obtained by Algorithm 1 have statistical difference compared to that obtained by Algorithm 2\n",
      "\n",
      "V_S = 8.5 \t\t | BONFERRONI alpha = 0.017\n",
      "---------------------------------------------------\n",
      "DE MOD - CMA-ES \t | True\n",
      "DE MOD - OPENAI-ES \t | False\n",
      "CMA-ES - OPENAI-ES \t | True\n"
     ]
    }
   ],
   "source": [
    "print(\"H0: Brake Power obtained by Algorithm 1 have statistical difference compared to that obtained by Algorithm 2\")\n",
    "print()\n",
    "print(f'V_S = 8.5 \\t\\t | BONFERRONI alpha = {alfa_3_tests:.3f}')\n",
    "print('---------------------------------------------------')\n",
    "print(f\"DE MOD - CMA-ES \\t | {de_mod_cma_8_5_corrected}\")\n",
    "print(f\"DE MOD - OPENAI-ES \\t | {de_mod_openai_8_5_corrected}\")\n",
    "print(f\"CMA-ES - OPENAI-ES \\t | {cma_openai_8_5_corrected}\")"
   ]
  }
 ],
 "metadata": {
  "kernelspec": {
   "display_name": ".env",
   "language": "python",
   "name": "python3"
  },
  "language_info": {
   "codemirror_mode": {
    "name": "ipython",
    "version": 3
   },
   "file_extension": ".py",
   "mimetype": "text/x-python",
   "name": "python",
   "nbconvert_exporter": "python",
   "pygments_lexer": "ipython3",
   "version": "3.11.2"
  }
 },
 "nbformat": 4,
 "nbformat_minor": 2
}
