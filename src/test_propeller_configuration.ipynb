{
 "cells": [
  {
   "cell_type": "code",
   "execution_count": 1,
   "metadata": {},
   "outputs": [
    {
     "name": "stdout",
     "output_type": "stream",
     "text": [
      "octave not found, please see README\n"
     ]
    }
   ],
   "source": [
    "from oct2py import Oct2Py"
   ]
  },
  {
   "cell_type": "code",
   "execution_count": 2,
   "metadata": {},
   "outputs": [],
   "source": [
    "# -------- range of the variables ----------\n",
    "# V_S = 8.0                   # service speed [kn]\n",
    "range_D     = [0.5, 0.8]\n",
    "range_AEdAO = [0.3, 1.05]\n",
    "range_PdD   = [0.5, 1.4]\n",
    "range_Z     = [2, 7]"
   ]
  },
  {
   "cell_type": "code",
   "execution_count": 3,
   "metadata": {},
   "outputs": [],
   "source": [
    "def run_octave_evaluation(V_S,D,Z,AEdAO,PdD):\n",
    "    P_B, t075dD,tmin075dD, tal07R,cavLim, Vtip,Vtipmax = [-1, -1, -1, -1, -1, -1, -1]\n",
    "    with Oct2Py() as octave:\n",
    "        octave.warning (\"off\", \"Octave:data-file-in-path\");\n",
    "        octave.addpath('./allCodesOctave');\n",
    "        P_B, n, etaO,etaR, t075dD,tmin075dD, tal07R,cavLim, Vtip,Vtipmax = octave.F_LabH2_return_constraints(V_S,D,Z,AEdAO,PdD, nout=10)\n",
    "    return [P_B, t075dD,tmin075dD, tal07R,cavLim, Vtip,Vtipmax]"
   ]
  },
  {
   "cell_type": "code",
   "execution_count": 4,
   "metadata": {},
   "outputs": [],
   "source": [
    "V_S = 8.0"
   ]
  },
  {
   "cell_type": "code",
   "execution_count": 5,
   "metadata": {},
   "outputs": [],
   "source": [
    "Z = 2\n",
    "D, AEdAO, PdD = [0.7866192509637266, 0.30959504136781724, 0.5587743757849281]"
   ]
  },
  {
   "cell_type": "code",
   "execution_count": 7,
   "metadata": {
    "scrolled": true
   },
   "outputs": [
    {
     "ename": "Oct2PyError",
     "evalue": "octave not found, please see README",
     "output_type": "error",
     "traceback": [
      "\u001b[1;31m---------------------------------------------------------------------------\u001b[0m",
      "\u001b[1;31mOct2PyError\u001b[0m                               Traceback (most recent call last)",
      "Cell \u001b[1;32mIn[7], line 1\u001b[0m\n\u001b[1;32m----> 1\u001b[0m P_B, t075dD,tmin075dD, tal07R,cavLim, Vtip,Vtipmax \u001b[38;5;241m=\u001b[39m \u001b[43mrun_octave_evaluation\u001b[49m\u001b[43m(\u001b[49m\u001b[43mV_S\u001b[49m\u001b[43m,\u001b[49m\u001b[43mD\u001b[49m\u001b[43m,\u001b[49m\u001b[43mZ\u001b[49m\u001b[43m,\u001b[49m\u001b[43mAEdAO\u001b[49m\u001b[43m,\u001b[49m\u001b[43mPdD\u001b[49m\u001b[43m)\u001b[49m\n",
      "Cell \u001b[1;32mIn[3], line 3\u001b[0m, in \u001b[0;36mrun_octave_evaluation\u001b[1;34m(V_S, D, Z, AEdAO, PdD)\u001b[0m\n\u001b[0;32m      1\u001b[0m \u001b[38;5;28;01mdef\u001b[39;00m \u001b[38;5;21mrun_octave_evaluation\u001b[39m(V_S,D,Z,AEdAO,PdD):\n\u001b[0;32m      2\u001b[0m     P_B, t075dD,tmin075dD, tal07R,cavLim, Vtip,Vtipmax \u001b[38;5;241m=\u001b[39m [\u001b[38;5;241m-\u001b[39m\u001b[38;5;241m1\u001b[39m, \u001b[38;5;241m-\u001b[39m\u001b[38;5;241m1\u001b[39m, \u001b[38;5;241m-\u001b[39m\u001b[38;5;241m1\u001b[39m, \u001b[38;5;241m-\u001b[39m\u001b[38;5;241m1\u001b[39m, \u001b[38;5;241m-\u001b[39m\u001b[38;5;241m1\u001b[39m, \u001b[38;5;241m-\u001b[39m\u001b[38;5;241m1\u001b[39m, \u001b[38;5;241m-\u001b[39m\u001b[38;5;241m1\u001b[39m]\n\u001b[1;32m----> 3\u001b[0m     \u001b[38;5;28;01mwith\u001b[39;00m \u001b[43mOct2Py\u001b[49m\u001b[43m(\u001b[49m\u001b[43m)\u001b[49m \u001b[38;5;28;01mas\u001b[39;00m octave:\n\u001b[0;32m      4\u001b[0m         octave\u001b[38;5;241m.\u001b[39mwarning (\u001b[38;5;124m\"\u001b[39m\u001b[38;5;124moff\u001b[39m\u001b[38;5;124m\"\u001b[39m, \u001b[38;5;124m\"\u001b[39m\u001b[38;5;124mOctave:data-file-in-path\u001b[39m\u001b[38;5;124m\"\u001b[39m);\n\u001b[0;32m      5\u001b[0m         octave\u001b[38;5;241m.\u001b[39maddpath(\u001b[38;5;124m'\u001b[39m\u001b[38;5;124m./allCodesOctave\u001b[39m\u001b[38;5;124m'\u001b[39m);\n",
      "File \u001b[1;32mc:\\Users\\Joe Vogel\\Desktop\\MESTRADO\\git\\vessel-propeller-optimisation\\.env\\Lib\\site-packages\\oct2py\\core.py:88\u001b[0m, in \u001b[0;36mOct2Py.__init__\u001b[1;34m(self, logger, timeout, oned_as, temp_dir, convert_to_float, backend)\u001b[0m\n\u001b[0;32m     86\u001b[0m \u001b[38;5;28mself\u001b[39m\u001b[38;5;241m.\u001b[39m_user_classes \u001b[38;5;241m=\u001b[39m {}\n\u001b[0;32m     87\u001b[0m \u001b[38;5;28mself\u001b[39m\u001b[38;5;241m.\u001b[39m_function_ptrs \u001b[38;5;241m=\u001b[39m {}\n\u001b[1;32m---> 88\u001b[0m \u001b[38;5;28;43mself\u001b[39;49m\u001b[38;5;241;43m.\u001b[39;49m\u001b[43mrestart\u001b[49m\u001b[43m(\u001b[49m\u001b[43m)\u001b[49m\n",
      "File \u001b[1;32mc:\\Users\\Joe Vogel\\Desktop\\MESTRADO\\git\\vessel-propeller-optimisation\\.env\\Lib\\site-packages\\oct2py\\core.py:574\u001b[0m, in \u001b[0;36mOct2Py.restart\u001b[1;34m(self)\u001b[0m\n\u001b[0;32m    572\u001b[0m     \u001b[38;5;28mself\u001b[39m\u001b[38;5;241m.\u001b[39m_engine \u001b[38;5;241m=\u001b[39m OctaveEngine(stdin_handler\u001b[38;5;241m=\u001b[39m\u001b[38;5;28mself\u001b[39m\u001b[38;5;241m.\u001b[39m_handle_stdin, logger\u001b[38;5;241m=\u001b[39m\u001b[38;5;28mself\u001b[39m\u001b[38;5;241m.\u001b[39mlogger)\n\u001b[0;32m    573\u001b[0m \u001b[38;5;28;01mexcept\u001b[39;00m \u001b[38;5;167;01mException\u001b[39;00m \u001b[38;5;28;01mas\u001b[39;00m e:\n\u001b[1;32m--> 574\u001b[0m     \u001b[38;5;28;01mraise\u001b[39;00m Oct2PyError(\u001b[38;5;28mstr\u001b[39m(e)) \u001b[38;5;28;01mfrom\u001b[39;00m \u001b[38;5;28;01mNone\u001b[39;00m\n\u001b[0;32m    576\u001b[0m \u001b[38;5;66;03m# Add local Octave scripts.\u001b[39;00m\n\u001b[0;32m    577\u001b[0m \u001b[38;5;28mself\u001b[39m\u001b[38;5;241m.\u001b[39m_engine\u001b[38;5;241m.\u001b[39meval(\u001b[38;5;124m'\u001b[39m\u001b[38;5;124maddpath(\u001b[39m\u001b[38;5;124m\"\u001b[39m\u001b[38;5;132;01m%s\u001b[39;00m\u001b[38;5;124m\"\u001b[39m\u001b[38;5;124m);\u001b[39m\u001b[38;5;124m'\u001b[39m \u001b[38;5;241m%\u001b[39m HERE\u001b[38;5;241m.\u001b[39mreplace(osp\u001b[38;5;241m.\u001b[39msep, \u001b[38;5;124m\"\u001b[39m\u001b[38;5;124m/\u001b[39m\u001b[38;5;124m\"\u001b[39m))\n",
      "\u001b[1;31mOct2PyError\u001b[0m: octave not found, please see README"
     ]
    }
   ],
   "source": [
    "P_B, t075dD,tmin075dD, tal07R,cavLim, Vtip,Vtipmax = run_octave_evaluation(V_S,D,Z,AEdAO,PdD)"
   ]
  },
  {
   "cell_type": "code",
   "execution_count": 7,
   "metadata": {
    "scrolled": true
   },
   "outputs": [
    {
     "name": "stdout",
     "output_type": "stream",
     "text": [
      "P_B        135.5788745130505\n",
      "t075dD     0.011\n",
      "tmin075dD  0.009939075741574684\n",
      "tal07R     0.15587148637562626\n",
      "cavLim     0.15604720960262677\n",
      "Vtip       34.59731034502753\n",
      "Vtipmax    39.0\n"
     ]
    }
   ],
   "source": [
    "print('P_B       ',P_B)\n",
    "print('t075dD    ',t075dD)\n",
    "print('tmin075dD ',tmin075dD) \n",
    "print('tal07R    ',tal07R)\n",
    "print('cavLim    ',cavLim) \n",
    "print('Vtip      ',Vtip)\n",
    "print('Vtipmax   ',Vtipmax)"
   ]
  },
  {
   "cell_type": "code",
   "execution_count": 8,
   "metadata": {},
   "outputs": [],
   "source": [
    "# Strength Constraint\n",
    "if (t075dD < tmin075dD):\n",
    "    penalty = tmin075dD - t075dD\n",
    "    print('broke Strength  ', penalty)\n",
    "\n",
    "# Cavitation Constrant\n",
    "if (tal07R > cavLim):\n",
    "    penalty = tal07R - cavLim\n",
    "    print('broke Cavitation', penalty)\n",
    "\n",
    "# Peripherical Velocity Constraint\n",
    "if (Vtip > Vtipmax):\n",
    "    penalty = Vtip - Vtipmax\n",
    "    print('broke Velocity  ', penalty)"
   ]
  },
  {
   "cell_type": "code",
   "execution_count": 9,
   "metadata": {},
   "outputs": [
    {
     "name": "stdout",
     "output_type": "stream",
     "text": [
      "fit 135.5788745130505\n",
      "dif 0.0\n"
     ]
    }
   ],
   "source": [
    "strength,strengthMin, cavitation,cavitationMax, velocity,velocityMax = t075dD,tmin075dD, tal07R,cavLim, Vtip,Vtipmax\n",
    "\n",
    "fit_value = P_B * (1 + max(((cavitation - cavitationMax)/cavitationMax), 0) + max(((velocity - velocityMax)/velocityMax), 0) + max(((strengthMin - strength)/strengthMin), 0) )\n",
    "\n",
    "print('fit', fit_value)\n",
    "print('dif', abs(fit_value - P_B) )"
   ]
  }
 ],
 "metadata": {
  "kernelspec": {
   "display_name": "Python 3 (ipykernel)",
   "language": "python",
   "name": "python3"
  },
  "language_info": {
   "codemirror_mode": {
    "name": "ipython",
    "version": 3
   },
   "file_extension": ".py",
   "mimetype": "text/x-python",
   "name": "python",
   "nbconvert_exporter": "python",
   "pygments_lexer": "ipython3",
   "version": "3.11.2"
  }
 },
 "nbformat": 4,
 "nbformat_minor": 2
}
