{
 "cells": [
  {
   "cell_type": "code",
   "execution_count": 1,
   "metadata": {},
   "outputs": [],
   "source": [
    "import csv\n",
    "import pandas as pd\n",
    "from os import listdir\n",
    "\n",
    "from files_def_multiple_runs import *"
   ]
  },
  {
   "cell_type": "code",
   "execution_count": 2,
   "metadata": {},
   "outputs": [],
   "source": [
    "dir_run = '../results'"
   ]
  },
  {
   "cell_type": "code",
   "execution_count": 3,
   "metadata": {},
   "outputs": [],
   "source": [
    "def generate_all_results_best_results_and_best_configuration(speeds, execution_folder, solver_name, Npop, Mit):\n",
    "    \n",
    "    for s in speeds:\n",
    "        speed = s.replace('_', '.')\n",
    "        cmaes_dir = dir_run  + '/' + execution_folder + '/' + s\n",
    "        \n",
    "        best_result = {\n",
    "            'D':0,\n",
    "            'AEdAO':0,\n",
    "            'PdD':0,\n",
    "            'Z':0,\n",
    "            'P_B':0,\n",
    "            'fitness':-999,\n",
    "            'seed':0,\n",
    "            'iteration':0\n",
    "        }\n",
    "        \n",
    "        for seed in range(0,10):\n",
    "            data = []\n",
    "            \n",
    "            seed_dir = cmaes_dir + \"/\" + str(seed)\n",
    "            for Z in range(2,8):\n",
    "                \n",
    "                Z_file = seed_dir + \"/\" + str(Z) + \".csv\"\n",
    "                \n",
    "                with open(Z_file, 'r', newline='') as csv_file:\n",
    "                    reader = csv.reader(csv_file)\n",
    "                    counter = 1\n",
    "                    iteration = 0\n",
    "                    for row in reader:\n",
    "                        \n",
    "                        if (counter == 1):\n",
    "                            counter += 1\n",
    "                            continue\n",
    "                        \n",
    "                        if (row[0] == 'fitness at iteration'):\n",
    "                            counter += 1\n",
    "                            iteration += 1\n",
    "                            continue\n",
    "                        \n",
    "                        if (row[0] == 'Best Solution'):\n",
    "                            break\n",
    "                        \n",
    "                        row.append(seed)\n",
    "                        row.append(iteration)\n",
    "                        \n",
    "                        data.append(row)\n",
    "                        \n",
    "                        counter += 1\n",
    "            \n",
    "            columns = ['D', 'AEdAO', 'PdD', 'Z', 'P_B', 'n', 'fitness', 't075dD', 'tmin075dD', 'tal07R', 'cavLim', 'Vtip', 'Vtipmax', 'penalty', 'valid', 'seed', 'iteration']\n",
    "                    \n",
    "            df = pd.DataFrame(data, columns=columns)\n",
    "            \n",
    "            df['fitness'] = df['fitness'].astype(float)\n",
    "            \n",
    "            df.to_csv(seed_dir + '/' + 'all_results.csv', index=False)\n",
    "            \n",
    "            \n",
    "            # Get valid designs\n",
    "            valid_df = df.loc[df['valid'] == 'True']\n",
    "            \n",
    "            df_sorted = valid_df.sort_values(by='fitness', ascending=False).reset_index(drop=True)\n",
    "            \n",
    "            max_fitness_row = df_sorted.iloc[0]\n",
    "            \n",
    "            filename = create_file(seed_dir, 'best_results_' + str(seed) +'_'+ solver_name)\n",
    "            append_to_file_order(filename, D=max_fitness_row['D'], AEdAO=max_fitness_row['AEdAO'], PdD=max_fitness_row['PdD'], Z=max_fitness_row['Z'], P_B=max_fitness_row['P_B'], n=max_fitness_row['n'], fitness=max_fitness_row['fitness'])\n",
    "            # history\n",
    "            append_to_file(filename, ['history'])\n",
    "            append_to_file(filename, \"\")\n",
    "            # config\n",
    "            append_to_file(filename, ['solver Name', 'V_S', 'NPOPULATION', 'MAX_ITERATION', 'SEED'])\n",
    "            append_to_file(filename, [ solver_name,   speed,   Npop,          Mit,             seed])\n",
    "            \n",
    "            if (max_fitness_row['fitness'] > best_result['fitness']):\n",
    "                best_result['D'] = max_fitness_row['D']\n",
    "                best_result['AEdAO'] = max_fitness_row['AEdAO']\n",
    "                best_result['PdD'] = max_fitness_row['PdD']\n",
    "                best_result['Z'] = max_fitness_row['Z']\n",
    "                best_result['P_B'] = max_fitness_row['P_B']\n",
    "                best_result['fitness'] = max_fitness_row['fitness']\n",
    "                best_result['seed'] = max_fitness_row['seed']\n",
    "                best_result['iteration'] = max_fitness_row['iteration']\n",
    "            \n",
    "        # Save best over all seeds\n",
    "        with open(cmaes_dir + '/best_configuration.csv', 'w') as csv_file:  \n",
    "            writer = csv.writer(csv_file)\n",
    "            for key, value in best_result.items():\n",
    "                writer.writerow([key, value])\n",
    "        \n",
    "        "
   ]
  },
  {
   "cell_type": "markdown",
   "metadata": {},
   "source": [
    "## Generate files for CMA run"
   ]
  },
  {
   "cell_type": "code",
   "execution_count": 4,
   "metadata": {},
   "outputs": [],
   "source": [
    "speeds = [\"7_0\", \"7_5\", \"8_0\", \"8_5\"]\n",
    "execution_folder = 'cmaes_2024_04_22_16h15'\n",
    "solver_name = \"cmaes\"\n",
    "npopulation = 5\n",
    "max_iterations = 30\n",
    "\n",
    "generate_all_results_best_results_and_best_configuration(speeds, execution_folder, solver_name, npopulation, max_iterations)"
   ]
  },
  {
   "cell_type": "markdown",
   "metadata": {},
   "source": [
    "## Generate files for OpenAI run"
   ]
  },
  {
   "cell_type": "code",
   "execution_count": 5,
   "metadata": {},
   "outputs": [],
   "source": [
    "speeds = [\"7_0\", \"7_5\", \"8_0\", \"8_5\"]\n",
    "execution_folder = 'openaies_2024_04_23_18h02'\n",
    "solver_name = \"openaies\"\n",
    "npopulation = 5\n",
    "max_iterations = 30\n",
    "\n",
    "generate_all_results_best_results_and_best_configuration(speeds, execution_folder, solver_name, npopulation, max_iterations)"
   ]
  }
 ],
 "metadata": {
  "kernelspec": {
   "display_name": ".env",
   "language": "python",
   "name": "python3"
  },
  "language_info": {
   "codemirror_mode": {
    "name": "ipython",
    "version": 3
   },
   "file_extension": ".py",
   "mimetype": "text/x-python",
   "name": "python",
   "nbconvert_exporter": "python",
   "pygments_lexer": "ipython3",
   "version": "3.11.2"
  }
 },
 "nbformat": 4,
 "nbformat_minor": 2
}
